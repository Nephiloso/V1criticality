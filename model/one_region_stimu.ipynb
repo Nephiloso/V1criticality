{
 "cells": [
  {
   "cell_type": "code",
   "execution_count": 1,
   "id": "7d0ab47d-103b-4cb6-9165-51366786ddc6",
   "metadata": {},
   "outputs": [
    {
     "name": "stdout",
     "output_type": "stream",
     "text": [
      "Populating the interactive namespace from numpy and matplotlib\n"
     ]
    }
   ],
   "source": [
    "%pylab inline"
   ]
  },
  {
   "cell_type": "code",
   "execution_count": 2,
   "id": "3c1e8498-8ab1-491d-b456-421d97b5fb68",
   "metadata": {
    "tags": []
   },
   "outputs": [],
   "source": [
    "'''\n",
    "This is a trail to test whether it is approachable to do surface modeling in single brain region.\n",
    "'''\n",
    "import time as t0\n",
    "import matplotlib\n",
    "from tvb.simulator.lab import *\n",
    "import pandas as pd\n",
    "from datetime import date\n",
    "import dfa\n",
    "import os\n",
    "import numpy as np\n",
    "tic = t0.time()"
   ]
  },
  {
   "cell_type": "code",
   "execution_count": 3,
   "id": "8dda751e-d7e2-47b9-bc51-08c75fe73bf1",
   "metadata": {},
   "outputs": [],
   "source": [
    "simulation_mode = 'simu1'\n",
    "data_folder = os.path.join(os.getcwd(), 'data')"
   ]
  },
  {
   "cell_type": "code",
   "execution_count": 4,
   "id": "2cfaaee6-be1c-4e03-ab9e-b9ec632c84c2",
   "metadata": {
    "tags": []
   },
   "outputs": [],
   "source": [
    "def plot_result(time, signal, interval, t_unit='ms'):\n",
    "    #Plot region averaged time series\n",
    "    fig = plt.figure(figsize=(15,5))\n",
    "    ax = fig.add_subplot(111)\n",
    "    if signal.ndim == 4:\n",
    "        ax.plot(time[interval[0]:interval[-1]], signal[interval[0]:interval[-1], 0, :, 0])\n",
    "    elif signal.ndim == 1:\n",
    "        ax.plot(time[interval[0]:interval[-1]], signal[interval[0]:interval[-1]])\n",
    "    else:\n",
    "        print(\"Dimension should be 4 or 1!\")\n",
    "        return None\n",
    "    title(\"Region average\")\n",
    "    plt.xlabel(\"time/\"+t_unit)\n",
    "    #Show them\n",
    "    show()"
   ]
  },
  {
   "cell_type": "code",
   "execution_count": 5,
   "id": "efab2c3a-b8f8-4e16-8468-198cfdb9902e",
   "metadata": {},
   "outputs": [
    {
     "name": "stdout",
     "output_type": "stream",
     "text": [
      "WARNING  File 'hemispheres' not found in ZIP.\n"
     ]
    }
   ],
   "source": [
    "simulator.Simulator()\n",
    "# specify the coupling\n",
    "c=coupling.Sigmoidal(a=np.array([0.5]))\n",
    "# region-based modeling\n",
    "white_matter = connectivity.Connectivity.from_file()\n",
    "tract_lengths = white_matter.tract_lengths[73:74,73:74]\n",
    "region_labels = white_matter.region_labels[73:74]\n",
    "centres = white_matter.centres[73:74]\n",
    "cortical = white_matter.cortical[73:74]\n",
    "orientations = white_matter.orientations[73:74]\n",
    "areas = white_matter.areas[73:74]\n",
    "weights = white_matter.weights[73:74,73:74]\n",
    "one_region = connectivity.Connectivity(number_of_regions = 1,\n",
    "                                        # number_of_connections=4,\n",
    "                                        tract_lengths = tract_lengths,\n",
    "                                        region_labels = region_labels,\n",
    "                                        centres = centres,\n",
    "                                        cortical = cortical,\n",
    "                                        orientations = orientations,\n",
    "                                        areas = areas,weights = weights)\n",
    "one_region.configure()"
   ]
  },
  {
   "cell_type": "code",
   "execution_count": 6,
   "id": "3dc9060d-7810-47e2-8928-02d4d601509b",
   "metadata": {},
   "outputs": [],
   "source": [
    "# The algorithm to solve differential equations\n",
    "nois = noise.Multiplicative(ntau=0.5, nsig = np.array([0.05]), b=equations.Gaussian())  # ? Do we need to optimize ntau?\n",
    "nois.configure_coloured(dt=0.1, shape=1)  # ? shape?? \n",
    "integ = integrators.HeunStochastic(dt=0.5, noise=nois)"
   ]
  },
  {
   "cell_type": "code",
   "execution_count": 7,
   "id": "9c54dd87-f38d-40e6-9265-d88cea964433",
   "metadata": {
    "tags": []
   },
   "outputs": [],
   "source": [
    "# Initialize the model\n",
    "c_ee = 11\n",
    "c_ei = 14\n",
    "# also test 15, 14 -> biggest delta in matlab:0.59, but here 0.53210353; 11, 14: 0.56463684\n",
    "# smallest: 6,8\n",
    "c_ie = 9.23\n",
    "c_ii = 2.0\n",
    "mod = models.WilsonCowan(k_e = np.array([1.0]),            #Max value of excitatory response function\n",
    "                         k_i = np.array([2.0]),            #Max value of inhibitory response function\n",
    "                         r_e = np.array([1.0]),            #Excitatory refractory period\n",
    "                         r_i = np.array([1.0]),            #Inhibitory refractory period\n",
    "                         c_ee = np.array([c_ee]),          #Excitatory to excitatory coupling coefficient\n",
    "                         c_ei = np.array([c_ei]),          #Inhibitory to excitatory coupling coefficient\n",
    "                         c_ie = np.array([c_ie]),         #Excitatory to inhibitory coupling coefficient\n",
    "                         c_ii = np.array([c_ii]),          #Inhibitory to inhibitory coupling coefficient\n",
    "                         tau_e = np.array([10.0]),         #Membrane time-constant for the excitatory population\n",
    "                         tau_i = np.array([10.0]),         #Membrane time-constant for the inhibitory population\n",
    "                         a_e = np.array([1.3]),            #Slope parameter for the excitatory response function\n",
    "                         b_e = np.array([2.8]),           #Position of the maximum slope of the excitatory sigmoid function\n",
    "                         c_e = np.array([7.0]),            #Amplitude parameter for the excitatory response function\n",
    "                         a_i = np.array([2.0]),            #Slope parameter for the inhibitory response function\n",
    "                         b_i = np.array([4.0]),            #Position of the maximum slope of the inhibitory sigmoid function\n",
    "                         c_i = np.array([1.0]),            #Amplitude parameter for the inhibitory response function\n",
    "                         theta_e = np.array([2.0]),        #Excitatory treshold\n",
    "                         theta_i = np.array([1.5]),        #Inhibitory treshold\n",
    "                         alpha_e = np.array([1.0]),        # ?Balance parameter between excitatory and inhibitory masses\n",
    "                         alpha_i = np.array([1.0]),        # ?Balance parameter between excitatory and inhibitory masses\n",
    "                         P = np.array([2.5]),              #External stimulus to the excitatory population\n",
    "                         Q = np.array([0.0]),              #External stimulus to the inhibitory population\n",
    "                         shift_sigmoid = np.array([False])\n",
    "                        )"
   ]
  },
  {
   "cell_type": "code",
   "execution_count": 8,
   "id": "92928a63-9e58-460a-9ccc-6ae8a9e82e89",
   "metadata": {},
   "outputs": [],
   "source": [
    "source_path = '/mnt/user/drive/My Libraries/tutorials&explorations/data/cortex/V1_180.zip'\n",
    "mapping_path = '/mnt/user/drive/My Libraries/tutorials&explorations/data/cortex/regionMapping_180_1.txt'\n",
    "local_connectivity_path = '/mnt/user/drive/My Libraries/tutorials&explorations/data/cortex/local_connectivity_180.mat'"
   ]
  },
  {
   "cell_type": "code",
   "execution_count": 14,
   "id": "09fa8078-ab8d-49e1-915c-4526c96bc922",
   "metadata": {},
   "outputs": [],
   "source": [
    "#Initialise a surface\n",
    "surf = surfaces.CorticalSurface.from_file(source_file=source_path)\n",
    "surf.configure()\n",
    "\n",
    "default_cortex = cortex.Cortex.from_file(source_file=source_path, region_mapping_file=mapping_path)\n",
    "default_cortex.coupling_strength = np.array([2**-10])\n",
    "default_cortex.local_connectivity = local_connectivity.LocalConnectivity.from_file(local_connectivity_path)\n",
    "default_cortex.region_mapping_data.connectivity = one_region\n",
    "default_cortex.region_mapping_data.surface = surf\n",
    "default_cortex.configure()"
   ]
  },
  {
   "cell_type": "code",
   "execution_count": 15,
   "id": "5454979e-64bc-472a-9d12-de1b84df2723",
   "metadata": {},
   "outputs": [],
   "source": [
    "if stimulation:\n",
    "    # Define a stimulus\n",
    "    eqn_t = equations.Alpha()  # belongs to a family of exponential function, used for visual stimulus # TODO Literature search!\n",
    "    eqn_t.parameters['onset'] = 100  # ! Must specify the params, otherwise no value will present in temporal_pattern\n",
    "    eqn_t.parameters['alpha'] = 13\n",
    "    eqn_t.parameters['beta'] = 42\n",
    "\n",
    "    eqn_s = equations.DiscreteEquation()\n",
    "    stimulus = patterns.StimuliSurface(surface=default_cortex.surface,\n",
    "                                       focal_points_triangles=np.array([154]),\n",
    "                                       temporal=eqn_t,\n",
    "                                       spatial = eqn_s)\n",
    "    stimulus.configure_space()\n",
    "    stimulus.configure_time(np.arange(0., 1000, 2**-1))  # apply a stimulus at 25s\n",
    "    stimulus.configure_space()\n",
    "    stimulus.configure_time(np.array([25000]))  # apply a stimulus at 25s\n",
    "    plot_pattern(stimulus)"
   ]
  },
  {
   "cell_type": "code",
   "execution_count": null,
   "id": "b66e33a8-3694-40b9-a22b-55c33f8658ad",
   "metadata": {
    "tags": []
   },
   "outputs": [],
   "source": [
    "#Initialise some Monitors with period in physical time\n",
    "mon_savg = monitors.SpatialAverage(period=2**-1)\n",
    "# load the default region mapping\n",
    "# rm = region_mapping.RegionMapping.from_file(source_file=mapping_path)\n",
    "# mon_eeg = monitors.EEG.from_file() # require whole brain mapping\n",
    "# mon_eeg.region_mapping=rm\n",
    "#Initialise Simulator -- Model, Connectivity, Integrator, Monitors, and surface.\n",
    "sim = simulator.Simulator(model = mod, connectivity = one_region,\n",
    "                          coupling = c, \n",
    "                          integrator = integ, monitors = (mon_savg,),\n",
    "                          simulation_length = 1000000,\n",
    "                          surface = default_cortex)\n",
    "\n",
    "sim.configure()"
   ]
  },
  {
   "cell_type": "code",
   "execution_count": null,
   "id": "716f1fb1-e0a4-42e2-9f6d-11552b84267a",
   "metadata": {},
   "outputs": [],
   "source": [
    "# sim.integrator.noise.nsig = np.array([1.]) #0.00001]) # configure the noise otherwise ERROR: Bad Simulator.integrator.noise.nsig shape"
   ]
  },
  {
   "cell_type": "code",
   "execution_count": null,
   "id": "033f15e9-9036-4a26-b4a1-2761584eaf93",
   "metadata": {},
   "outputs": [],
   "source": [
    "#Perform the simulation\n",
    "# tavg_data = []\n",
    "# tavg_time = []\n",
    "savg_data = []\n",
    "savg_time = []\n",
    "# eeg_data = []\n",
    "# eeg_time = []\n",
    "# hf = h5py.File('data.h5','w')\n",
    "# hf.create_dataset('dts_1', data=d1)\n",
    "today = date.today().isoformat()\n",
    "simu_name = today + '_' + simulation_mode+'_'+str(c_ee)+'_'+str(c_ei)+'_'+str(c_ie)+'_'+str(c_ii)\n",
    "result_name = os.path.join(data_folder,simu_name+\"_results.csv\")\n",
    "batch = 0\n",
    "last_t = []\n",
    "latt_d = []\n",
    "check_point = 50000\n",
    "for savg in sim():\n",
    "    # if not tavg is None:\n",
    "        # tavg_time.append(tavg[0])\n",
    "        # tavg_data.append(tavg[1])\n",
    "    if not savg is None:\n",
    "        savg_time.append(savg[0][0])\n",
    "        savg_data.append(savg[0][1])\n",
    "        if len(savg_time) == check_point:\n",
    "            SAVG = np.array(savg_data)\n",
    "            v1 = SAVG[:,0,0,0]\n",
    "            # v2 = SAVG[:,0,1,0]\n",
    "            df = pd.DataFrame({'time':savg_time,\n",
    "                               's_v1':v1})\n",
    "            if batch == 0:\n",
    "                df.to_csv(result_name, index=False, header=False)\n",
    "            elif batch == 1:\n",
    "                if sum(abs(v1[-10000:])) < 200:\n",
    "                    print(\"Oscillation is not generated. Will abandon this trail.\")\n",
    "                    plot_result(savg_time,v1,[40000,49999])\n",
    "                    break\n",
    "                else:\n",
    "                    df.to_csv(result_name, mode='a', index=False, header=False)\n",
    "            else:\n",
    "                df.to_csv(result_name, mode='a', index=False, header=False)\n",
    "            batch +=1\n",
    "            last_t = savg_time\n",
    "            last_d = savg_data\n",
    "            df= []\n",
    "            savg_data = []\n",
    "            savg_time = []\n",
    "\n",
    "    # if not eeg is None:\n",
    "    #     eeg_time.append(eeg[0])\n",
    "    #     eeg_data.append(eeg[1])"
   ]
  },
  {
   "cell_type": "code",
   "execution_count": null,
   "id": "8f9c7a32-9806-439e-9a7e-67a65e673e27",
   "metadata": {},
   "outputs": [],
   "source": [
    "# import tvb.datatypes.time_series\n",
    "# tsr = tvb.datatypes.time_series.TimeSeriesRegion()\n",
    "# SAVG = numpy.array(savg)\n",
    "# tsr.data = SAVG\n",
    "# tsr.sample_period = 2**-1\n",
    "# import tvb.simulator.power_spectra_interactive as ps_int\n",
    "# psi = ps_int.PowerSpectraInteractive(time_series=tsr)\n",
    "# psi.show()"
   ]
  },
  {
   "cell_type": "code",
   "execution_count": null,
   "id": "d9968669-451b-4940-b7b5-aa1f6a294151",
   "metadata": {},
   "outputs": [],
   "source": [
    "# result = sim.run()"
   ]
  },
  {
   "cell_type": "code",
   "execution_count": null,
   "id": "126abcb0-0456-4fb5-aec7-e30a00e6d419",
   "metadata": {},
   "outputs": [],
   "source": [
    "# savg_time = numpy.array(last_t)\n",
    "# savg_time = savg_time.astype(float)\n",
    "# time_s = savg_time/10000"
   ]
  },
  {
   "cell_type": "code",
   "execution_count": null,
   "id": "0165dfd8-a554-415e-91b9-5248f8a2018d",
   "metadata": {},
   "outputs": [],
   "source": [
    "if len(last_t) != 0:\n",
    "    savg_time = np.array(last_t)\n",
    "    time_s = savg_time/1000\n",
    "    SAVG = np.array(last_d)\n",
    "else:\n",
    "    savg_time = np.array(savg_time)\n",
    "    time_s = savg_time/1000\n",
    "    SAVG = np.array(savg_data)"
   ]
  },
  {
   "cell_type": "code",
   "execution_count": null,
   "id": "b5b61f2a-b93a-4f63-9109-a84a1783ce9e",
   "metadata": {},
   "outputs": [],
   "source": [
    "# plot_result(time_s, SAVG, [5000,15000])\n",
    "plot_result(time_s, SAVG, [0,2000],'s')"
   ]
  },
  {
   "cell_type": "code",
   "execution_count": null,
   "id": "cc849313-57fa-4654-ab01-e06464403580",
   "metadata": {
    "tags": []
   },
   "outputs": [],
   "source": [
    "# #Plot region averaged time series\n",
    "# fig = plt.figure(figsize=(15,5))\n",
    "# ax = fig.add_subplot(111)\n",
    "# ax.plot(savg_time[5000:15000], SAVG[5000:15000, 0, :, 0])\n",
    "# # ax.plot(time_s, SAVG[:,0,0,0])\n",
    "# title(\"Region average\")\n",
    "# plt.xlabel(\"time/ms\")\n",
    "# show()"
   ]
  },
  {
   "cell_type": "code",
   "execution_count": null,
   "id": "57ab0468-0996-42f1-806d-b2931232dc6b",
   "metadata": {},
   "outputs": [],
   "source": [
    "toc = t0.time() - tic\n",
    "print('Elapsed:',toc)"
   ]
  },
  {
   "cell_type": "code",
   "execution_count": null,
   "id": "a74f4c50-fdb3-4b62-8080-19ddd3f73ee7",
   "metadata": {},
   "outputs": [],
   "source": [
    "df = pd.read_csv(result_name, header = None)\n",
    "data = df[1].to_numpy()\n",
    "raw = dfa.load_data([data],add_noise=True, noise_sd=0.01)\n",
    "R , _ = dfa.compute_DFA(raw, l_freq=1, h_freq=4,method='richard')\n",
    "R"
   ]
  },
  {
   "cell_type": "code",
   "execution_count": null,
   "id": "853d9eed-a8b0-4245-b5ac-48e67c6a30e0",
   "metadata": {},
   "outputs": [],
   "source": [
    "R_delta = R\n",
    "R_delta"
   ]
  },
  {
   "cell_type": "code",
   "execution_count": null,
   "id": "5baf88b7-4084-49b8-a87c-430ce0351e72",
   "metadata": {},
   "outputs": [],
   "source": [
    "# df = pd.read_csv(result_name, header = None)\n",
    "# total_rows=len(df.axes[0])\n",
    "# print(\"Number of Rows: \"+str(total_rows))\n",
    "# df.tail()"
   ]
  }
 ],
 "metadata": {
  "kernelspec": {
   "display_name": "EBRAINS_release_v0.1_202109",
   "language": "python",
   "name": "spack_python_kernel_release_20210930"
  },
  "language_info": {
   "codemirror_mode": {
    "name": "ipython",
    "version": 3
   },
   "file_extension": ".py",
   "mimetype": "text/x-python",
   "name": "python",
   "nbconvert_exporter": "python",
   "pygments_lexer": "ipython3",
   "version": "3.8.11"
  }
 },
 "nbformat": 4,
 "nbformat_minor": 5
}
