{
 "cells": [
  {
   "cell_type": "markdown",
   "id": "c153060f-b1a5-41aa-88eb-d0f2e664f6f5",
   "metadata": {},
   "source": [
    "# Some Useful Notes"
   ]
  },
  {
   "cell_type": "code",
   "execution_count": null,
   "id": "118ad157-d9c6-4ccb-940e-67538025fc19",
   "metadata": {},
   "outputs": [],
   "source": [
    "# Some useful magic command\n",
    "%lsmagic # list all avaliable magic command\n",
    "%system pwd # show pwd\n",
    "%timeit # count the time for running the next line\n",
    "%%timeit # count the time for running the whole cell\n",
    "%pylab inline # Use plt in jupyterlab"
   ]
  },
  {
   "cell_type": "code",
   "execution_count": 2,
   "id": "067c5026-785c-4eb8-8b6c-c54659f0c69a",
   "metadata": {},
   "outputs": [
    {
     "name": "stderr",
     "output_type": "stream",
     "text": [
      "/srv/main-spack-instance/spack/var/spack/environments/release_v0_1_202109_hotfix/.spack-env/view/lib/python3.8/site-packages/tvb/datatypes/surfaces.py:63: UserWarning: Geodesic distance module is unavailable; some functionality for surfaces will be unavailable.\n",
      "  warnings.warn(msg)\n"
     ]
    }
   ],
   "source": [
    "from tvb.simulator.lab import *"
   ]
  },
  {
   "cell_type": "code",
   "execution_count": 1,
   "id": "fb7d5c7c-dd95-4398-9908-65bd52ef0024",
   "metadata": {},
   "outputs": [
    {
     "data": {
      "text/plain": [
       "'/mnt/user/drive/My Libraries/tutorials&explorations'"
      ]
     },
     "execution_count": 1,
     "metadata": {},
     "output_type": "execute_result"
    }
   ],
   "source": [
    "# Check the current path\n",
    "import os\n",
    "os.getcwd()"
   ]
  },
  {
   "cell_type": "markdown",
   "id": "8ceef307-82f0-43df-a765-1316347adf08",
   "metadata": {
    "tags": []
   },
   "source": [
    "### How to clear the memory\n",
    "- Left top of the website -> Kernel -> Shut down all kernels\n",
    "- Use `del` to delete some variables [ref: https://serverfault.com/questions/940262/python-server-with-jupyter-notebook-running-out-of-memory ]"
   ]
  },
  {
   "cell_type": "code",
   "execution_count": 2,
   "id": "a5cab803-b02f-4837-b2a2-b9d43798a01e",
   "metadata": {},
   "outputs": [
    {
     "ename": "SyntaxError",
     "evalue": "invalid syntax (2544291429.py, line 2)",
     "output_type": "error",
     "traceback": [
      "\u001b[0;36m  Input \u001b[0;32mIn [2]\u001b[0;36m\u001b[0m\n\u001b[0;31m    local_connectivity.LocalConnectivity.from_file??  # check the document\u001b[0m\n\u001b[0m                                                  ^\u001b[0m\n\u001b[0;31mSyntaxError\u001b[0m\u001b[0;31m:\u001b[0m invalid syntax\n"
     ]
    }
   ],
   "source": [
    "# How to get help\n",
    "local_connectivity.LocalConnectivity.from_file??  # check the document\n",
    "help(local_connectivity.LocalConnectivity.from_file)  # check the source code"
   ]
  },
  {
   "cell_type": "code",
   "execution_count": null,
   "id": "c2b6a369-8e86-4611-bf84-67d41d94bbd2",
   "metadata": {},
   "outputs": [],
   "source": [
    "# How to check all the attributes\n",
    "dir(default_cortex)"
   ]
  },
  {
   "cell_type": "code",
   "execution_count": null,
   "id": "5d52e443-4500-453e-964b-54f7671dd930",
   "metadata": {},
   "outputs": [],
   "source": [
    "# Check the files under a folder\n",
    "import os\n",
    "files = os.listdir('/srv/main-spack-instance/spack/var/spack/environments/release_v0_1_202109_hotfix/.spack-env/view/lib/python3.8/site-packages/tvb_data/connectivity')\n",
    "files"
   ]
  },
  {
   "cell_type": "code",
   "execution_count": 3,
   "id": "72e9197e-c447-4369-a635-cd283f243432",
   "metadata": {},
   "outputs": [
    {
     "name": "stdout",
     "output_type": "stream",
     "text": [
      "WARNING  File 'average_orientations' not found in ZIP.\n",
      "WARNING  File 'cortical' not found in ZIP.\n",
      "WARNING  File 'hemispheres' not found in ZIP.\n",
      "WARNING  File 'areas' not found in ZIP.\n"
     ]
    }
   ],
   "source": [
    "# import another connectivity matrix:\n",
    "S = connectivity.Connectivity.from_file('/srv/main-spack-instance/spack/var/spack/environments/release_v0_1_202109_hotfix/.spack-env/view/lib/python3.8/site-packages/tvb_data/connectivity/connectivity_66.zip')"
   ]
  }
 ],
 "metadata": {
  "kernelspec": {
   "display_name": "EBRAINS_release_v0.1_202109",
   "language": "python",
   "name": "spack_python_kernel_release_20210930"
  },
  "language_info": {
   "codemirror_mode": {
    "name": "ipython",
    "version": 3
   },
   "file_extension": ".py",
   "mimetype": "text/x-python",
   "name": "python",
   "nbconvert_exporter": "python",
   "pygments_lexer": "ipython3",
   "version": "3.8.11"
  }
 },
 "nbformat": 4,
 "nbformat_minor": 5
}
