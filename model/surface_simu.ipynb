{
 "cells": [
  {
   "cell_type": "code",
   "execution_count": 1,
   "id": "7d0ab47d-103b-4cb6-9165-51366786ddc6",
   "metadata": {},
   "outputs": [
    {
     "name": "stdout",
     "output_type": "stream",
     "text": [
      "Populating the interactive namespace from numpy and matplotlib\n"
     ]
    }
   ],
   "source": [
    "%pylab inline"
   ]
  },
  {
   "cell_type": "code",
   "execution_count": 2,
   "id": "3c1e8498-8ab1-491d-b456-421d97b5fb68",
   "metadata": {
    "tags": []
   },
   "outputs": [
    {
     "name": "stderr",
     "output_type": "stream",
     "text": [
      "/srv/main-spack-instance/spack/var/spack/environments/release_v0_1_202109_hotfix/.spack-env/view/lib/python3.8/site-packages/tvb/datatypes/surfaces.py:63: UserWarning: Geodesic distance module is unavailable; some functionality for surfaces will be unavailable.\n",
      "  warnings.warn(msg)\n"
     ]
    }
   ],
   "source": [
    "'''\n",
    "This is a trail to test whether it is approachable to do surface modeling in single brain region.\n",
    "'''\n",
    "import time as t0\n",
    "import numpy\n",
    "import matplotlib\n",
    "from tvb.simulator.lab import *\n",
    "import pandas as pd\n",
    "from datetime import date\n",
    "import os\n",
    "tic = t0.time()"
   ]
  },
  {
   "cell_type": "code",
   "execution_count": 3,
   "id": "8dda751e-d7e2-47b9-bc51-08c75fe73bf1",
   "metadata": {},
   "outputs": [],
   "source": [
    "simulation_mode = 'simu1'\n",
    "today = date.today().isoformat()\n",
    "simu_name = today + '_' + simulation_mode\n",
    "data_folder = os.path.join(os.getcwd(), 'data')"
   ]
  },
  {
   "cell_type": "code",
   "execution_count": 4,
   "id": "efab2c3a-b8f8-4e16-8468-198cfdb9902e",
   "metadata": {},
   "outputs": [
    {
     "name": "stdout",
     "output_type": "stream",
     "text": [
      "WARNING  File 'hemispheres' not found in ZIP.\n"
     ]
    }
   ],
   "source": [
    "simulator.Simulator()\n",
    "# white_matter = connectivity.Connectivity.from_file()\n",
    "# white_matter.speed = numpy.array([4.0])\n",
    "# white_matter_coupling = coupling.Linear(a=numpy.array([0.014]))\n",
    "# specify the coupling\n",
    "c=coupling.Linear(a=numpy.array([0.5]))\n",
    "# The algorithm to solve differential equations\n",
    "# integ = integrators.HeunDeterministic(dt=0.5)\n",
    "integ = integrators.HeunStochastic(dt=0.5)\n",
    "# region-based modeling\n",
    "white_matter = connectivity.Connectivity.from_file()\n",
    "tract_lengths = white_matter.tract_lengths[73:75,73:75]\n",
    "region_labels = white_matter.region_labels[73:75]\n",
    "centres = white_matter.centres[73:75]\n",
    "cortical = white_matter.cortical[73:75]\n",
    "orientations = white_matter.orientations[73:75]\n",
    "areas = white_matter.areas[73:75]\n",
    "weights = white_matter.weights[73:75,73:75]\n",
    "two_regions = connectivity.Connectivity(number_of_regions = 2,\n",
    "                                        number_of_connections=4,\n",
    "                                        tract_lengths = tract_lengths,\n",
    "                                        region_labels = region_labels,\n",
    "                                        centres = centres,\n",
    "                                        cortical = cortical,\n",
    "                                        orientations = orientations,\n",
    "                                        areas = areas,weights = weights)\n",
    "two_regions.configure()"
   ]
  },
  {
   "cell_type": "code",
   "execution_count": 5,
   "id": "9c54dd87-f38d-40e6-9265-d88cea964433",
   "metadata": {},
   "outputs": [],
   "source": [
    "# Initialize the model\n",
    "mod = models.WilsonCowan(k_e = np.array([1.0]),            #Max value of excitatory response function\n",
    "                         k_i = np.array([1.0]),            #Max value of inhibitory response function\n",
    "                         r_e = np.array([1.0]),            #Excitatory refractory period\n",
    "                         r_i = np.array([1.0]),            #Inhibitory refractory period\n",
    "                         c_ee = np.array([16.0]),          #Excitatory to excitatory coupling coefficient\n",
    "                         c_ei = np.array([15.0]),          #Inhibitory to excitatory coupling coefficient\n",
    "                         c_ie = np.array([15.11]),         #Excitatory to inhibitory coupling coefficient\n",
    "                         c_ii = np.array([5.65]),          #Inhibitory to inhibitory coupling coefficient\n",
    "                         tau_e = np.array([8.0]),         #Membrane time-constant for the excitatory population\n",
    "                         tau_i = np.array([8.0]),         #Membrane time-constant for the inhibitory population\n",
    "                         a_e = np.array([1.2]),            #Slope parameter for the excitatory response function\n",
    "                         b_e = np.array([2.38]),           #Position of the maximum slope of the excitatory sigmoid function\n",
    "                         c_e = np.array([1.0]),            #Amplitude parameter for the excitatory response function\n",
    "                         a_i = np.array([1.0]),            #Slope parameter for the inhibitory response function\n",
    "                         b_i = np.array([2]),            #Position of the maximum slope of the inhibitory sigmoid function\n",
    "                         c_i = np.array([1.0]),            #Amplitude parameter for the inhibitory response function\n",
    "                         theta_e = np.array([0.0]),        #Excitatory treshold\n",
    "                         theta_i = np.array([0.0]),        #Inhibitory treshold\n",
    "                         alpha_e = np.array([1.0]),        # ?Balance parameter between excitatory and inhibitory masses\n",
    "                         alpha_i = np.array([1.0]),        # ?Balance parameter between excitatory and inhibitory masses\n",
    "                         P = np.array([1.8]),              #External stimulus to the excitatory population\n",
    "                         Q = np.array([0.0]),              #External stimulus to the inhibitory population\n",
    "                         shift_sigmoid = np.array(True)  # Try False\n",
    "                        )"
   ]
  },
  {
   "cell_type": "code",
   "execution_count": 6,
   "id": "92928a63-9e58-460a-9ccc-6ae8a9e82e89",
   "metadata": {},
   "outputs": [],
   "source": [
    "source_path = '/mnt/user/drive/My Libraries/tutorials&explorations/data/cortex/cortex_843.zip'\n",
    "mapping_path = '/mnt/user/drive/My Libraries/tutorials&explorations/data/cortex/regionMapping_843_2.txt'\n",
    "local_connectivity_path = '/mnt/user/drive/My Libraries/tutorials&explorations/data/cortex/local_connectivity_843.mat'"
   ]
  },
  {
   "cell_type": "code",
   "execution_count": 7,
   "id": "09fa8078-ab8d-49e1-915c-4526c96bc922",
   "metadata": {},
   "outputs": [],
   "source": [
    "#Initialise a surface\n",
    "default_cortex = cortex.Cortex.from_file(source_file=source_path, region_mapping_file=mapping_path)\n",
    "default_cortex.coupling_strength = numpy.array([2**-10])\n",
    "default_cortex.local_connectivity = local_connectivity.LocalConnectivity.from_file(local_connectivity_path)\n",
    "default_cortex.region_mapping_data.connectivity = white_matter\n",
    "default_cortex.configure()"
   ]
  },
  {
   "cell_type": "code",
   "execution_count": 8,
   "id": "b66e33a8-3694-40b9-a22b-55c33f8658ad",
   "metadata": {},
   "outputs": [],
   "source": [
    "#Initialise some Monitors with period in physical time\n",
    "mon_tavg = monitors.TemporalAverage(period=2**-1)\n",
    "mon_savg = monitors.SpatialAverage(period=2**-1)\n",
    "# load the default region mapping\n",
    "# rm = region_mapping.RegionMapping.from_file(source_file=mapping_path)\n",
    "# mon_eeg = monitors.EEG.from_file() # require whole brain mapping\n",
    "# mon_eeg.region_mapping=rm\n",
    "#Bundle them\n",
    "what_to_watch = (mon_tavg, mon_savg)"
   ]
  },
  {
   "cell_type": "code",
   "execution_count": 9,
   "id": "abc6dfc8-45e1-4f84-8fa3-52c541835d4a",
   "metadata": {},
   "outputs": [
    {
     "data": {
      "text/html": [
       "<table>\n",
       "<h3>Simulator</h3>\n",
       "<thead><tr><th></th><th style=\"text-align:left;width:40%\">value</th></tr></thead>\n",
       "<tbody>\n",
       "<tr><td>Type</td><td style=\"text-align:left;\"><pre>Simulator</pre></td>\n",
       "<tr><td>conduction_speed</td><td style=\"text-align:left;\"><pre>3.0</pre></td>\n",
       "<tr><td>connectivity</td><td style=\"text-align:left;\"><pre>Connectivity gid: a1174cb6-0245-4b64-a892-94e14fea5d3c</pre></td>\n",
       "<tr><td>coupling</td><td style=\"text-align:left;\"><pre>Linear gid: 1b44d2f4-b8ce-41e0-9f89-72dbdc143d30</pre></td>\n",
       "<tr><td>gid</td><td style=\"text-align:left;\"><pre>UUID('e91a5c80-c0a6-4c53-8bea-1524e3cfa2c5')</pre></td>\n",
       "<tr><td>initial_conditions</td><td style=\"text-align:left;\"><pre>None</pre></td>\n",
       "<tr><td>integrator</td><td style=\"text-align:left;\"><pre>HeunStochastic gid: 262cda26-caeb-4359-849e-b7c5100ab229</pre></td>\n",
       "<tr><td>model</td><td style=\"text-align:left;\"><pre>WilsonCowan gid: 341e64ae-81a7-4127-8455-20b6c86749af</pre></td>\n",
       "<tr><td>monitors</td><td style=\"text-align:left;\"><pre>(<tvb.simulator.monitors.SpatialAverage object at 0x7f0a82c5f220>,)</pre></td>\n",
       "<tr><td>simulation_length</td><td style=\"text-align:left;\"><pre>1000000.0</pre></td>\n",
       "<tr><td>stimulus</td><td style=\"text-align:left;\"><pre>None</pre></td>\n",
       "<tr><td>surface</td><td style=\"text-align:left;\"><pre>Cortex gid: 1ce516ca-aaf5-46e7-85ea-6ac9f7327d5d</pre></td>\n",
       "<tr><td>title</td><td style=\"text-align:left;\"><pre>Simulator gid: e91a5c80-c0a6-4c53-8bea-1524e3cfa2c5</pre></td>\n",
       "</tbody></table>"
      ],
      "text/plain": [
       "<tvb.simulator.simulator.Simulator at 0x7f0a82c5f670>"
      ]
     },
     "execution_count": 9,
     "metadata": {},
     "output_type": "execute_result"
    }
   ],
   "source": [
    "#Initialise Simulator -- Model, Connectivity, Integrator, Monitors, and surface.\n",
    "sim = simulator.Simulator(model = mod, connectivity = two_regions,\n",
    "                          coupling = c, \n",
    "                          integrator = integ, monitors = (mon_savg,),\n",
    "                          simulation_length = 1000000,\n",
    "                          surface = default_cortex)\n",
    "\n",
    "sim.configure()"
   ]
  },
  {
   "cell_type": "code",
   "execution_count": null,
   "id": "033f15e9-9036-4a26-b4a1-2761584eaf93",
   "metadata": {},
   "outputs": [],
   "source": [
    "#Perform the simulation\n",
    "# tavg_data = []\n",
    "# tavg_time = []\n",
    "savg_data = []\n",
    "savg_time = []\n",
    "# eeg_data = []\n",
    "# eeg_time = []\n",
    "# hf = h5py.File('data.h5','w')\n",
    "# hf.create_dataset('dts_1', data=d1)\n",
    "result_name = os.path.join(data_folder,simu_name+\"_results.csv\")\n",
    "batch = 0\n",
    "last_t = []\n",
    "latt_d = []\n",
    "for savg in sim():\n",
    "    # if not tavg is None:\n",
    "        # tavg_time.append(tavg[0])\n",
    "        # tavg_data.append(tavg[1])\n",
    "    if not savg is None:\n",
    "        savg_time.append(savg[0][0])\n",
    "        savg_data.append(savg[0][1])\n",
    "        if len(savg_time) == 200000:\n",
    "            df = pd.DataFrame({'time':savg_time,\n",
    "                   'sagv':savg_data})\n",
    "            if batch == 0:\n",
    "                df.to_csv(result_name, index=False, header=False)\n",
    "            else:\n",
    "                df.to_csv(result_name, mode='a', index=False, header=False)\n",
    "            batch +=1\n",
    "            last_t = savg_time\n",
    "            latt_d = savg_data\n",
    "            savg_data = []\n",
    "            savg_time = []\n",
    "\n",
    "    # if not eeg is None:\n",
    "    #     eeg_time.append(eeg[0])\n",
    "    #     eeg_data.append(eeg[1])"
   ]
  },
  {
   "cell_type": "code",
   "execution_count": null,
   "id": "d9968669-451b-4940-b7b5-aa1f6a294151",
   "metadata": {},
   "outputs": [],
   "source": [
    "# result = sim.run()"
   ]
  },
  {
   "cell_type": "code",
   "execution_count": null,
   "id": "d603a9f8-9984-4357-ab67-59e8129476a0",
   "metadata": {},
   "outputs": [],
   "source": [
    "SAVG = numpy.array(savg_data)\n",
    "SAVG.shape"
   ]
  },
  {
   "cell_type": "code",
   "execution_count": null,
   "id": "126abcb0-0456-4fb5-aec7-e30a00e6d419",
   "metadata": {},
   "outputs": [],
   "source": [
    "savg_time = numpy.array(last_t)\n",
    "savg_time = savg_time.astype(float)\n",
    "time_s = last_t/10000"
   ]
  },
  {
   "cell_type": "code",
   "execution_count": null,
   "id": "cc849313-57fa-4654-ab01-e06464403580",
   "metadata": {
    "tags": []
   },
   "outputs": [],
   "source": [
    "#Make the lists numpy.arrays for easier use.\n",
    "# TAVG = numpy.array(tavg_data)\n",
    "SAVG = numpy.array(latt_d)\n",
    "# EEG = numpy.array(eeg_data)\n",
    "\n",
    "\n",
    "#Plot region averaged time series\n",
    "fig = plt.figure(figsize=(15,5))\n",
    "ax = fig.add_subplot(111)\n",
    "# ax.plot(savg_time[500:1500], SAVG[500:1500, 0, :, 0])\n",
    "ax.plot(time_s[80000:82500], SAVG[80000:82500, 0, :, 0])\n",
    "title(\"Region average\")\n",
    "plt.xlabel(\"time/ms\")\n",
    "#Plot EEG time series\n",
    "# figure(2)\n",
    "\n",
    "# plot(eeg_time, EEG[:, 0, :, 0])\n",
    "# title(\"EEG\")\n",
    "\n",
    "#Show them\n",
    "show()"
   ]
  },
  {
   "cell_type": "code",
   "execution_count": null,
   "id": "57ab0468-0996-42f1-806d-b2931232dc6b",
   "metadata": {},
   "outputs": [],
   "source": [
    "toc = t0.time() - tic\n",
    "print('Elapsed:',toc)"
   ]
  },
  {
   "cell_type": "code",
   "execution_count": null,
   "id": "5baf88b7-4084-49b8-a87c-430ce0351e72",
   "metadata": {},
   "outputs": [],
   "source": [
    "df = pd.read_csv(result_name, header = None)\n",
    "total_rows=len(df.axes[0])\n",
    "print(\"Number of Rows: \"+str(total_rows))\n",
    "df.tail()"
   ]
  }
 ],
 "metadata": {
  "kernelspec": {
   "display_name": "EBRAINS_release_v0.1_202109",
   "language": "python",
   "name": "spack_python_kernel_release_20210930"
  },
  "language_info": {
   "codemirror_mode": {
    "name": "ipython",
    "version": 3
   },
   "file_extension": ".py",
   "mimetype": "text/x-python",
   "name": "python",
   "nbconvert_exporter": "python",
   "pygments_lexer": "ipython3",
   "version": "3.8.11"
  }
 },
 "nbformat": 4,
 "nbformat_minor": 5
}
