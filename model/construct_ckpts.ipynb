{
 "cells": [
  {
   "cell_type": "markdown",
   "id": "9c12d43e-56ce-4d0f-8129-1e5815a1a863",
   "metadata": {},
   "source": [
    "## Construct checkpoint\n",
    "The script aims to recalculate the results from the existing csv data and construce it into the serialized data that could get access by ray.tune.\n",
    "\n",
    "STEP1: calculate the result for a csv file\n",
    "\n",
    "STEP2: find the file name of it and match it to the result of `searcher-state`\n",
    "\n",
    "STEP3: rewrite the result\n",
    "\n",
    "STEP4: move the folder of trial into the constructed folder\n",
    "\n",
    "STEP5: go through the 3 data files for ray.tune and change some parameters like `bayesopt._total_random_search_trials`\n",
    "\n",
    "STEP6: save the result for all csv seperately\n",
    "\n",
    "After that: get the phase plane for c_ii = 2/9 to define search space\n",
    "            then launch tuning algorithm"
   ]
  },
  {
   "cell_type": "code",
   "execution_count": 1,
   "id": "163014d2-c70d-495d-abe9-acd3171d929b",
   "metadata": {},
   "outputs": [],
   "source": [
    "from ray.tune.suggest.bayesopt import BayesOptSearch\n",
    "from ray import tune\n",
    "import os\n",
    "import json\n",
    "import numpy as np\n",
    "from utils import *\n",
    "import re\n",
    "import evaluation\n",
    "from ray.tune.utils.serialization import TuneFunctionEncoder,TuneFunctionDecoder"
   ]
  },
  {
   "cell_type": "code",
   "execution_count": 2,
   "id": "dba47ec1-59aa-48a4-bdd6-4ad92ed7a714",
   "metadata": {},
   "outputs": [],
   "source": [
    "old_folder = '/mnt/user/drive/My Libraries/tutorials&explorations/data/ray_results/20220614_trial1'\n",
    "new_folder = '/mnt/user/drive/My Libraries/tutorials&explorations/data/ray_results/20220623_trial1'\n",
    "csv_folder = '/mnt/user/drive/My Libraries/tutorials&explorations/data/'\n",
    "result_names = get_result_names(csv_folder)\n",
    "json_path = os.path.join(csv_folder, 'results_20220622.json')"
   ]
  },
  {
   "cell_type": "code",
   "execution_count": 3,
   "id": "53610917-9df4-45a5-934e-040d9b7c27be",
   "metadata": {},
   "outputs": [
    {
     "name": "stderr",
     "output_type": "stream",
     "text": [
      "/usr/local/lib/python3.8/dist-packages/sklearn/base.py:329: UserWarning: Trying to unpickle estimator GaussianProcessRegressor from version 1.0 when using version 1.0.2. This might lead to breaking code or invalid results. Use at your own risk. For more info please refer to:\n",
      "https://scikit-learn.org/stable/modules/model_persistence.html#security-maintainability-limitations\n",
      "  warnings.warn(\n"
     ]
    }
   ],
   "source": [
    "bayesopt = BayesOptSearch(metric=\"score\",\n",
    "                          mode=\"min\",\n",
    "                          random_search_steps=150)\n",
    "bayesopt.restore(os.path.join(old_folder, 'searcher-state-2022-06-20_16-57-26.pkl'))"
   ]
  },
  {
   "cell_type": "code",
   "execution_count": 4,
   "id": "28ce0a21-fce7-40f8-8b58-d05a58393c1c",
   "metadata": {},
   "outputs": [],
   "source": [
    "csv_results = []"
   ]
  },
  {
   "cell_type": "code",
   "execution_count": 5,
   "id": "3814fd25-553e-4fa6-a527-bbaa9a09d23a",
   "metadata": {},
   "outputs": [
    {
     "ename": "FileNotFoundError",
     "evalue": "[Errno 2] No such file or directory: '/mnt/user/drive/My Libraries/tutorials&explorations/data/results_20220622.json'",
     "output_type": "error",
     "traceback": [
      "\u001b[0;31m---------------------------------------------------------------------------\u001b[0m",
      "\u001b[0;31mFileNotFoundError\u001b[0m                         Traceback (most recent call last)",
      "Input \u001b[0;32mIn [5]\u001b[0m, in \u001b[0;36m<cell line: 1>\u001b[0;34m()\u001b[0m\n\u001b[0;32m----> 1\u001b[0m \u001b[38;5;28;01mwith\u001b[39;00m \u001b[38;5;28;43mopen\u001b[39;49m\u001b[43m(\u001b[49m\u001b[43mjson_path\u001b[49m\u001b[43m,\u001b[49m\u001b[38;5;124;43m'\u001b[39;49m\u001b[38;5;124;43mr\u001b[39;49m\u001b[38;5;124;43m'\u001b[39;49m\u001b[43m)\u001b[49m \u001b[38;5;28;01mas\u001b[39;00m jf:\n\u001b[1;32m      2\u001b[0m     csv_results \u001b[38;5;241m=\u001b[39m json\u001b[38;5;241m.\u001b[39mload(jf)\n\u001b[1;32m      3\u001b[0m     jf\u001b[38;5;241m.\u001b[39mclose()\n",
      "\u001b[0;31mFileNotFoundError\u001b[0m: [Errno 2] No such file or directory: '/mnt/user/drive/My Libraries/tutorials&explorations/data/results_20220622.json'"
     ]
    }
   ],
   "source": [
    "with open(json_path,'r') as jf:\n",
    "    csv_results = json.load(jf)\n",
    "    jf.close()"
   ]
  },
  {
   "cell_type": "code",
   "execution_count": null,
   "id": "cf943709-a1f7-4db8-9af9-1c810c3bf119",
   "metadata": {},
   "outputs": [],
   "source": [
    "with open(os.path.join(old_folder,'experiment_state-2022-06-20_16-57-26.json')) as f:\n",
    "    ckp=json.load(f)\n",
    "checkpoint=ckp['checkpoints']\n",
    "f.close()"
   ]
  },
  {
   "cell_type": "code",
   "execution_count": 6,
   "id": "bfe7e706-91e7-4303-b9ab-b7e5f1e65d2c",
   "metadata": {},
   "outputs": [
    {
     "data": {
      "text/plain": [
       "150"
      ]
     },
     "execution_count": 6,
     "metadata": {},
     "output_type": "execute_result"
    }
   ],
   "source": [
    "len(bayesopt._buffered_trial_results)"
   ]
  },
  {
   "cell_type": "code",
   "execution_count": 72,
   "id": "18131d57-1522-43d3-9848-8d3d9aefc843",
   "metadata": {},
   "outputs": [],
   "source": [
    "def modify_string(string, target, first_location, last_location, piece):\n",
    "    loc = string.find(target)\n",
    "    old_piece = string[loc+first_location:loc+last_location]\n",
    "    list_str = list(string)\n",
    "    str_len = last_location-first_location\n",
    "    try:\n",
    "        assert (len(list(piece))==str_len), 'Length of both string should be the same!'\n",
    "    except AssertionError:\n",
    "        str_len = len(piece)\n",
    "        last_location = first_location+str_len\n",
    "    list_str[loc+first_location:loc+last_location] = piece\n",
    "    new_string = ''.join(list_str)\n",
    "    for match in re.finditer(old_piece,new_string):\n",
    "        list_new_str = list(new_string)\n",
    "        # import pdb; pdb.set_trace()\n",
    "        list_new_str[match.span()[0]: match.span()[1]] =  piece\n",
    "        new_string = ''.join(list_new_str)\n",
    "    return new_string, old_piece"
   ]
  },
  {
   "cell_type": "code",
   "execution_count": 73,
   "id": "5c79afb6-63d7-49e5-9400-cee81e8d2b46",
   "metadata": {},
   "outputs": [],
   "source": [
    "c_ii_all = []"
   ]
  },
  {
   "cell_type": "code",
   "execution_count": 74,
   "id": "ad7ceb08-3952-4b46-ac55-febb5e4dbf2b",
   "metadata": {},
   "outputs": [],
   "source": [
    "# useless_exp = []\n",
    "# useless_opt = []\n",
    "useless_csv = []\n",
    "preserve_exp = []\n",
    "preserve_opt = []\n",
    "for k in range(len(csv_results)):\n",
    "    dfa_all = csv_results[k]['dfa']\n",
    "    score = evaluation.get_score(dfa_all, csv_results[k]['peak'])\n",
    "    csv_results[k]['score'] = score\n",
    "    file = csv_results[k]['file']\n",
    "    c_ee_csv = file[file.find('c_ee')+4:file.find('c_ee')+19]\n",
    "    c_ei_csv = file[file.find('c_ei')+4:file.find('c_ei')+19]\n",
    "    exp_findone = False\n",
    "    opt_findone = False\n",
    "    for i in range(len(checkpoint)):\n",
    "        # import pdb;pdb.set_trace()\n",
    "        c_ee_s = checkpoint[i].find('\\n    \"c_ee\": ')\n",
    "        c_ee_exp = checkpoint[i][c_ee_s+13:c_ee_s+13+15]\n",
    "        c_ei_s = checkpoint[i].find('\\n    \"c_ei\": ')\n",
    "        c_ei_exp = checkpoint[i][c_ei_s+13:c_ei_s+13+15]\n",
    "        if (c_ee_csv in c_ee_exp) & (c_ei_csv in c_ei_exp):\n",
    "            exp_findone = True\n",
    "            preserve_exp.append(i)\n",
    "            checkpoint[i], _ = modify_string(checkpoint[i], '\"_last_result\\\": {\\n    \\\"score\\\":', 31, 31+18,str(score)[0:18])\n",
    "            checkpoint[i], _ = modify_string(checkpoint[i], '\\\"delta\\\"', 9, 9+17,str(dfa_all['delta'])[0:17])\n",
    "            checkpoint[i], _ = modify_string(checkpoint[i], '\\\"theta\\\"', 9, 9+17,str(dfa_all['theta'])[0:17])\n",
    "            checkpoint[i], _ = modify_string(checkpoint[i], '\\\"alpha\\\"', 9, 9+17,str(dfa_all['alpha'])[0:17])\n",
    "            checkpoint[i], _ = modify_string(checkpoint[i], '\\\"beta\\\"', 8, 8+17,str(dfa_all['beta'])[0:17])\n",
    "            checkpoint[i], _ = modify_string(checkpoint[i], '\\\"gamma\\\"', 9, 9+17,str(dfa_all['gamma'])[0:17])\n",
    "            checkpoint[i], _ = modify_string(checkpoint[i], '\\\"raw\\\"', 7, 7+17,str(dfa_all['raw'])[0:17])\n",
    "            checkpoint[i], _ = modify_string(checkpoint[i], 'dfa_this_trial\\\":', 9, 9+17,str(dfa_all['dfa_this_trial'])[0:17])\n",
    "            checkpoint[i], _ = modify_string(checkpoint[i], 'f_peak\\\": ', 9, 9+9,str(csv_results[k]['peak'])[0:9])\n",
    "    for j in range(len(bayesopt._buffered_trial_results)):\n",
    "        if (c_ee_csv in str(bayesopt._buffered_trial_results[j][0]['c_ee'])) \\\n",
    "        & (c_ei_csv in str(bayesopt._buffered_trial_results[j][0]['c_ei'])):\n",
    "            opt_findone = True\n",
    "            preserve_opt.append(j)\n",
    "            bayesopt._buffered_trial_results[j][1]['score'] = score\n",
    "            bayesopt._buffered_trial_results[j][1]['f_peak'] = csv_results[k]['peak']\n",
    "            bayesopt._buffered_trial_results[j][1]['dfa_all/delta'] = dfa_all['delta']\n",
    "            bayesopt._buffered_trial_results[j][1]['dfa_all/theta'] = dfa_all['theta']\n",
    "            bayesopt._buffered_trial_results[j][1]['dfa_all/alpha'] = dfa_all['alpha']\n",
    "            bayesopt._buffered_trial_results[j][1]['dfa_all/beta'] = dfa_all['beta']\n",
    "            bayesopt._buffered_trial_results[j][1]['dfa_all/gamma'] = dfa_all['gamma']\n",
    "            bayesopt._buffered_trial_results[j][1]['dfa_all/raw'] = dfa_all['raw']\n",
    "            bayesopt._buffered_trial_results[j][1]['dfa_all/dfa_this_trial'] = dfa_all['dfa_this_trial']\n",
    "            \n",
    "            c_ii_all.append(bayesopt._buffered_trial_results[j][0]['c_ii'])\n",
    "            \n",
    "            # copy the folder of the result to the new folder\n",
    "            model_name='run_model_'+str(bayesopt._buffered_trial_results[j][1]['trial_id'])\n",
    "            old_list = os.listdir(path=old_folder)\n",
    "            trans_name = [s for s in old_list if model_name in s]\n",
    "            trans_path = os.path.join(old_folder, trans_name[0]).replace(\" \", \"\\\\ \").replace(\"&\", \"\\\\&\")\n",
    "            target_path = new_folder.replace(\" \", \"\\\\ \").replace(\"&\", \"\\\\&\")\n",
    "            os.system('cp -r '+trans_path+' '+target_path)\n",
    "    if (exp_findone==False) & (opt_findone==False):\n",
    "        useless_csv.append(k)"
   ]
  },
  {
   "cell_type": "code",
   "execution_count": 75,
   "id": "a2c0f8db-8e95-408e-83d6-bd855999b457",
   "metadata": {},
   "outputs": [
    {
     "data": {
      "text/plain": [
       "[17, 22, 35, 59, 71, 89]"
      ]
     },
     "execution_count": 75,
     "metadata": {},
     "output_type": "execute_result"
    }
   ],
   "source": [
    "useless_csv"
   ]
  },
  {
   "cell_type": "code",
   "execution_count": 88,
   "id": "df7abdf0-e0a8-48d9-b679-897fa63608d6",
   "metadata": {},
   "outputs": [],
   "source": [
    "useless_path = os.path.join(csv_folder, 'useless_traces').replace(\" \", \"\\\\ \").replace(\"&\", \"\\\\&\")\n",
    "# os.makedirs(useless_path)\n",
    "\n",
    "for i in useless_csv:\n",
    "    original_path = os.path.join(csv_folder,csv_results[i]['file']).replace(\" \", \"\\\\ \").replace(\"&\", \"\\\\&\")\n",
    "    os.system('mv '+original_path+' '+useless_path)"
   ]
  },
  {
   "cell_type": "code",
   "execution_count": 72,
   "id": "f25ebfde-c430-4a62-b0c6-2f211826bd6b",
   "metadata": {},
   "outputs": [
    {
     "data": {
      "text/plain": [
       "['CKPT_FILE_TMPL',\n",
       " 'FINISHED',\n",
       " '__class__',\n",
       " '__delattr__',\n",
       " '__dict__',\n",
       " '__dir__',\n",
       " '__doc__',\n",
       " '__eq__',\n",
       " '__format__',\n",
       " '__ge__',\n",
       " '__getattribute__',\n",
       " '__gt__',\n",
       " '__hash__',\n",
       " '__init__',\n",
       " '__init_subclass__',\n",
       " '__le__',\n",
       " '__lt__',\n",
       " '__module__',\n",
       " '__ne__',\n",
       " '__new__',\n",
       " '__reduce__',\n",
       " '__reduce_ex__',\n",
       " '__repr__',\n",
       " '__setattr__',\n",
       " '__sizeof__',\n",
       " '__str__',\n",
       " '__subclasshook__',\n",
       " '__weakref__',\n",
       " '_analysis',\n",
       " '_buffered_trial_results',\n",
       " '_config_counter',\n",
       " '_live_trial_mapping',\n",
       " '_metric',\n",
       " '_metric_op',\n",
       " '_mode',\n",
       " '_patience',\n",
       " '_points_to_evaluate',\n",
       " '_random_state',\n",
       " '_register_result',\n",
       " '_setup_optimizer',\n",
       " '_skip_duplicate',\n",
       " '_space',\n",
       " '_total_random_search_trials',\n",
       " '_verbose',\n",
       " 'add_evaluated_point',\n",
       " 'add_evaluated_trials',\n",
       " 'convert_search_space',\n",
       " 'get_state',\n",
       " 'max_concurrent',\n",
       " 'metric',\n",
       " 'mode',\n",
       " 'on_trial_complete',\n",
       " 'on_trial_result',\n",
       " 'optimizer',\n",
       " 'random_search_trials',\n",
       " 'register_analysis',\n",
       " 'repeat_float_precision',\n",
       " 'restore',\n",
       " 'restore_from_dir',\n",
       " 'save',\n",
       " 'save_to_dir',\n",
       " 'set_max_concurrency',\n",
       " 'set_search_properties',\n",
       " 'set_state',\n",
       " 'suggest',\n",
       " 'utility']"
      ]
     },
     "execution_count": 72,
     "metadata": {},
     "output_type": "execute_result"
    }
   ],
   "source": [
    "dir(bayesopt)"
   ]
  },
  {
   "cell_type": "code",
   "execution_count": 92,
   "id": "c2cfd53c-59f7-406e-b3d3-b510b728d6f2",
   "metadata": {},
   "outputs": [
    {
     "data": {
      "text/plain": [
       "[105,\n",
       " 134,\n",
       " 117,\n",
       " 139,\n",
       " 123,\n",
       " 145,\n",
       " 133,\n",
       " 140,\n",
       " 109,\n",
       " 27,\n",
       " 131,\n",
       " 111,\n",
       " 114,\n",
       " 107,\n",
       " 112,\n",
       " 113,\n",
       " 127,\n",
       " 106,\n",
       " 125,\n",
       " 28,\n",
       " 122,\n",
       " 121,\n",
       " 143,\n",
       " 128,\n",
       " 108,\n",
       " 1,\n",
       " 110,\n",
       " 109,\n",
       " 114,\n",
       " 141,\n",
       " 111]"
      ]
     },
     "execution_count": 92,
     "metadata": {},
     "output_type": "execute_result"
    }
   ],
   "source": [
    "preserve_opt"
   ]
  },
  {
   "cell_type": "code",
   "execution_count": 100,
   "id": "50981d8c-6a5b-453d-b9f0-6e9e6d13a49f",
   "metadata": {},
   "outputs": [],
   "source": [
    "buffered_len = len(bayesopt._buffered_trial_results)\n",
    "useless_opt = list(set(list(range(buffered_len))).difference(set(preserve_opt)))"
   ]
  },
  {
   "cell_type": "code",
   "execution_count": 101,
   "id": "f085bb28-f18f-4654-ae04-298c75c86d07",
   "metadata": {},
   "outputs": [],
   "source": [
    "expe_len = len(checkpoint)\n",
    "useless_exp = list(set(list(range(expe_len))).difference(set(preserve_exp)))"
   ]
  },
  {
   "cell_type": "code",
   "execution_count": 102,
   "id": "c2aa50b1-01d0-4767-8920-61880d969bd1",
   "metadata": {},
   "outputs": [],
   "source": [
    "results = np.array(bayesopt._buffered_trial_results)\n",
    "new_results = np.delete(results, useless_opt,axis=0)\n",
    "bopt = bayesopt\n",
    "bopt._buffered_trial_results = new_results #.tolist()?"
   ]
  },
  {
   "cell_type": "code",
   "execution_count": 105,
   "id": "73a5dae9-60e5-4285-a60e-e62047bf1ab8",
   "metadata": {},
   "outputs": [],
   "source": [
    "bopt.random_search_trials = 200"
   ]
  },
  {
   "cell_type": "code",
   "execution_count": 106,
   "id": "d366f019-6029-4b28-9e72-13c9e461c150",
   "metadata": {},
   "outputs": [],
   "source": [
    "bopt._total_random_search_trials=len(new_results)"
   ]
  },
  {
   "cell_type": "code",
   "execution_count": 107,
   "id": "b4eacfc5-5fd9-46ed-98fa-6cd120a762ff",
   "metadata": {},
   "outputs": [],
   "source": [
    "bopt.save(os.path.join(new_folder, 'searcher-state-2022-06-23_14-00-00.pkl'))"
   ]
  },
  {
   "cell_type": "code",
   "execution_count": 109,
   "id": "76960ac2-b3a9-4be1-a2c6-90ce343dba83",
   "metadata": {},
   "outputs": [],
   "source": [
    "def array2tuple(x):\n",
    "    return (x[0],x[1])"
   ]
  },
  {
   "cell_type": "markdown",
   "id": "a98e71a8-db2e-4cb5-8e82-43c8c7d98003",
   "metadata": {},
   "source": [
    "new_buffer = list(map(array2tuple,new_results))\n",
    "len(new_buffer)"
   ]
  },
  {
   "cell_type": "code",
   "execution_count": 108,
   "id": "7a3e2f86-b622-4a42-aa50-351aaceabe6c",
   "metadata": {},
   "outputs": [],
   "source": [
    "ckpt_array = np.array(checkpoint)\n",
    "new_ckpt_array = np.delete(ckpt_array,useless_exp)"
   ]
  },
  {
   "cell_type": "code",
   "execution_count": 110,
   "id": "86865ea1-9b79-4e55-b0c9-3b650e9efc8d",
   "metadata": {},
   "outputs": [],
   "source": [
    "new_ckpt=list(map(str,new_ckpt_array))"
   ]
  },
  {
   "cell_type": "code",
   "execution_count": 111,
   "id": "16f3989a-03d3-433a-a35d-4cfe708927e4",
   "metadata": {},
   "outputs": [
    {
     "data": {
      "text/plain": [
       "91"
      ]
     },
     "execution_count": 111,
     "metadata": {},
     "output_type": "execute_result"
    }
   ],
   "source": [
    "len(new_ckpt)"
   ]
  },
  {
   "cell_type": "code",
   "execution_count": 14,
   "id": "1694e82f-2c6b-4acc-bb4a-ecddaf58eaa4",
   "metadata": {},
   "outputs": [],
   "source": [
    "fp = '/mnt/user/drive/My Libraries/tutorials&explorations/data/ray_results/new_folder/experiment_state-2022-06-23_14-00-00.json'"
   ]
  },
  {
   "cell_type": "code",
   "execution_count": 34,
   "id": "b5c24572-5994-4488-bb97-cdfb3985ff76",
   "metadata": {},
   "outputs": [],
   "source": [
    "ckp['checkpoints'] = new_ckpt"
   ]
  },
  {
   "cell_type": "code",
   "execution_count": 35,
   "id": "c7ba424a-e107-4630-9553-f5c0b2abf5ba",
   "metadata": {},
   "outputs": [],
   "source": [
    "ckp['runner_data']['checkpoint_file'] = fp"
   ]
  },
  {
   "cell_type": "code",
   "execution_count": 36,
   "id": "8830dc21-fba0-4867-84db-afc46e83d4c8",
   "metadata": {},
   "outputs": [
    {
     "data": {
      "text/plain": [
       "{'start_time': 1655469387.466305, 'timestamp': 1655547700.0619483}"
      ]
     },
     "execution_count": 36,
     "metadata": {},
     "output_type": "execute_result"
    }
   ],
   "source": [
    "ckp['stats']"
   ]
  },
  {
   "cell_type": "code",
   "execution_count": 37,
   "id": "133408be-5d84-4e48-ab77-38a9daf4efb6",
   "metadata": {},
   "outputs": [],
   "source": [
    "with open(fp, \"w\") as ckpf:\n",
    "    json.dump(ckp, ckpf, indent=2, cls=TuneFunctionEncoder)\n",
    "ckpf.close()"
   ]
  },
  {
   "cell_type": "code",
   "execution_count": 2,
   "id": "3b37e8f0-d953-47a6-b992-cc3eb4f29471",
   "metadata": {},
   "outputs": [],
   "source": [
    "from ray.tune.suggest.suggestion import ConcurrencyLimiter, Searcher\n",
    "from ray.tune.suggest import SearchGenerator\n",
    "search_alg = BayesOptSearch(metric=\"score\",\n",
    "                          mode=\"min\",\n",
    "                          random_search_steps=150)\n",
    "max_concurrent_trials = 3\n",
    "search_alg = ConcurrencyLimiter(search_alg, max_concurrent=max_concurrent_trials)"
   ]
  },
  {
   "cell_type": "code",
   "execution_count": 3,
   "id": "5f80a2bd-b078-447d-912f-28434c36ef26",
   "metadata": {},
   "outputs": [],
   "source": [
    "if isinstance(search_alg, Searcher):\n",
    "        search_alg = SearchGenerator(search_alg)"
   ]
  },
  {
   "cell_type": "code",
   "execution_count": 6,
   "id": "9cf6a47f-f656-418e-8f56-057cb5526d4c",
   "metadata": {
    "tags": []
   },
   "outputs": [],
   "source": [
    "search_alg.restore_from_dir(new_folder)"
   ]
  },
  {
   "cell_type": "code",
   "execution_count": 10,
   "id": "8e3c9ab8-7963-4e8c-8784-d69861810d7f",
   "metadata": {},
   "outputs": [],
   "source": [
    "CKPT_FILE_TMPL = \"search_gen_state-{}.json\"\n",
    "search_alg_state = tune.utils.util.load_newest_checkpoint(\n",
    "            dirpath, CKPT_FILE_TMPL.format(\"*\")\n",
    "        )"
   ]
  },
  {
   "cell_type": "code",
   "execution_count": null,
   "id": "0c6e2e18-bc15-433a-9308-60c80b7d944c",
   "metadata": {},
   "outputs": [],
   "source": [
    "dir(search_alg_state)"
   ]
  },
  {
   "cell_type": "code",
   "execution_count": 23,
   "id": "f820f6c5-bda5-45e6-8f91-d2de49348a14",
   "metadata": {},
   "outputs": [],
   "source": [
    "search_alg_state['counter']=143"
   ]
  },
  {
   "cell_type": "code",
   "execution_count": 25,
   "id": "0d8900d8-c6c9-4d84-ac23-c5d926f58f89",
   "metadata": {},
   "outputs": [],
   "source": [
    "tune.utils.util.atomic_save(state=search_alg_state,checkpoint_dir=dirpath,file_name='search_gen_state-2022-06-23_14-00-00.json',tmp_file_name='search_gen_state-2022-06-23_14-00-00.json')"
   ]
  },
  {
   "cell_type": "code",
   "execution_count": 38,
   "id": "f5feb84a-4566-4bba-b381-66608d8e077c",
   "metadata": {},
   "outputs": [],
   "source": [
    "with open(fp) as f:\n",
    "    runner_state = json.load(f, cls=TuneFunctionDecoder)\n",
    "    f.close()"
   ]
  },
  {
   "cell_type": "code",
   "execution_count": 39,
   "id": "ee3a4e20-4fbb-40a9-b677-ee369a7e53ae",
   "metadata": {},
   "outputs": [
    {
     "data": {
      "text/plain": [
       "143"
      ]
     },
     "execution_count": 39,
     "metadata": {},
     "output_type": "execute_result"
    }
   ],
   "source": [
    "len(runner_state['checkpoints'])"
   ]
  },
  {
   "cell_type": "code",
   "execution_count": null,
   "id": "f5a952c1-2097-4b90-9fae-0016cd8449e5",
   "metadata": {},
   "outputs": [],
   "source": []
  }
 ],
 "metadata": {
  "kernelspec": {
   "display_name": "Python 3 (ipykernel)",
   "language": "python",
   "name": "python3"
  },
  "language_info": {
   "codemirror_mode": {
    "name": "ipython",
    "version": 3
   },
   "file_extension": ".py",
   "mimetype": "text/x-python",
   "name": "python",
   "nbconvert_exporter": "python",
   "pygments_lexer": "ipython3",
   "version": "3.8.10"
  }
 },
 "nbformat": 4,
 "nbformat_minor": 5
}
