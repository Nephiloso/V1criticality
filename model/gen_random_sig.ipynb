{
 "cells": [
  {
   "cell_type": "code",
   "execution_count": 1,
   "id": "cd5443c8-cefe-463e-9f59-99afda62b35b",
   "metadata": {},
   "outputs": [],
   "source": [
    "import numpy as np\n",
    "import pandas as pd\n",
    "import os\n",
    "from evaluation import *\n",
    "import random"
   ]
  },
  {
   "cell_type": "code",
   "execution_count": 2,
   "id": "ee0bde2b-59c1-4aef-9c7c-e34e445449fa",
   "metadata": {},
   "outputs": [],
   "source": [
    "result='/mnt/user/drive/My Libraries/tutorials&explorations/V1criticality/data/2022-06-26_c_ee11.57199543729056_c_ei10.307919639315172_dt1_results.csv'\n",
    "df = pd.read_csv(result, header = None)\n",
    "data = df[1].to_numpy()\n",
    "time = df[0].to_numpy()"
   ]
  },
  {
   "cell_type": "code",
   "execution_count": 3,
   "id": "3f283201-8f7b-4b97-a71e-84d06dc99a6e",
   "metadata": {},
   "outputs": [
    {
     "data": {
      "text/plain": [
       "(1000000,)"
      ]
     },
     "execution_count": 3,
     "metadata": {},
     "output_type": "execute_result"
    }
   ],
   "source": [
    "rand_sig = np.random.uniform(-1, 1, time.shape[0])\n",
    "rand_sig.shape"
   ]
  },
  {
   "cell_type": "code",
   "execution_count": 4,
   "id": "387ecbae-7f96-4155-973a-30e42de4f9d3",
   "metadata": {},
   "outputs": [],
   "source": [
    "df0 = pd.DataFrame({'time':time, 'data':rand_sig})\n",
    "result_name = '/mnt/user/drive/My Libraries/tutorials&explorations/V1criticality/data/2022-07_15_randm4_results.csv'\n",
    "df0.to_csv(result_name, mode='a', index=False, header=False)"
   ]
  },
  {
   "cell_type": "code",
   "execution_count": 5,
   "id": "687f91e6-5926-41b1-a70f-3c5a01a36699",
   "metadata": {},
   "outputs": [
    {
     "name": "stdout",
     "output_type": "stream",
     "text": [
      "Creating RawArray with float64 data, n_channels=1, n_times=1000000\n",
      "    Range : 0 ... 999999 =      0.000 ...   999.999 secs\n",
      "Ready.\n",
      "Creating RawArray with float64 data, n_channels=1, n_times=1000000\n",
      "    Range : 0 ... 999999 =      0.000 ...   999.999 secs\n",
      "Ready.\n",
      "Creating RawArray with float64 data, n_channels=1, n_times=1000000\n",
      "    Range : 0 ... 999999 =      0.000 ...   999.999 secs\n",
      "Ready.\n",
      "Creating RawArray with float64 data, n_channels=1, n_times=1000000\n",
      "    Range : 0 ... 999999 =      0.000 ...   999.999 secs\n",
      "Ready.\n",
      "Creating RawArray with float64 data, n_channels=1, n_times=1000000\n",
      "    Range : 0 ... 999999 =      0.000 ...   999.999 secs\n",
      "Ready.\n",
      "Creating RawArray with float64 data, n_channels=1, n_times=1000000\n",
      "    Range : 0 ... 999999 =      0.000 ...   999.999 secs\n",
      "Ready.\n"
     ]
    },
    {
     "data": {
      "text/plain": [
       "(0.4081313433146249,\n",
       " {'delta': 0.5400541215762146,\n",
       "  'theta': 0.5449977626190278,\n",
       "  'alpha': 0.49366199567089325,\n",
       "  'beta': 0.5276907158548721,\n",
       "  'gamma': 0.4796421657082125,\n",
       "  'raw': 0.5078950076843392,\n",
       "  'dfa_this_trial': 0.5078950076843392},\n",
       " 58.10546875)"
      ]
     },
     "execution_count": 5,
     "metadata": {},
     "output_type": "execute_result"
    }
   ],
   "source": [
    "dfa_analysis(result_name, dt=1, not_remove = True, save_inter=True)"
   ]
  },
  {
   "cell_type": "markdown",
   "id": "379773a7-4fb6-4028-ba7d-a5f2c76b09e1",
   "metadata": {},
   "source": [
    "### Get the psd of old data"
   ]
  },
  {
   "cell_type": "code",
   "execution_count": 7,
   "id": "e37d66f7-7850-48d6-8e80-ac18dcbfb8da",
   "metadata": {},
   "outputs": [],
   "source": [
    "result_name = '/mnt/user/drive/My Libraries/tutorials&explorations/V1criticality/data/2022-06-27_c_ee6_c_ei22_results.csv'\n",
    "df = pd.read_csv(result_name, header = None)\n",
    "data = df[1].to_numpy()\n",
    "peak = get_psd_peak(data, dt=1,save_path=result_name)"
   ]
  }
 ],
 "metadata": {
  "kernelspec": {
   "display_name": "Python 3 (ipykernel)",
   "language": "python",
   "name": "python3"
  },
  "language_info": {
   "codemirror_mode": {
    "name": "ipython",
    "version": 3
   },
   "file_extension": ".py",
   "mimetype": "text/x-python",
   "name": "python",
   "nbconvert_exporter": "python",
   "pygments_lexer": "ipython3",
   "version": "3.8.10"
  }
 },
 "nbformat": 4,
 "nbformat_minor": 5
}
