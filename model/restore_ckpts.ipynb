{
 "cells": [
  {
   "cell_type": "markdown",
   "id": "9c12d43e-56ce-4d0f-8129-1e5815a1a863",
   "metadata": {},
   "source": [
    "The script aims to solve the problem: `Blocking for next trial...` when resuming the ray.tune"
   ]
  },
  {
   "cell_type": "code",
   "execution_count": 1,
   "id": "163014d2-c70d-495d-abe9-acd3171d929b",
   "metadata": {},
   "outputs": [],
   "source": [
    "from ray.tune.suggest.bayesopt import BayesOptSearch\n",
    "from ray import tune\n",
    "import os\n",
    "import json\n",
    "import numpy as np\n",
    "import pdb"
   ]
  },
  {
   "cell_type": "code",
   "execution_count": 2,
   "id": "372d6e67-84b3-4d93-a069-56d9bd2942c6",
   "metadata": {},
   "outputs": [],
   "source": [
    "from ray.tune.utils.serialization import TuneFunctionEncoder,TuneFunctionDecoder"
   ]
  },
  {
   "cell_type": "code",
   "execution_count": 3,
   "id": "2d9f283e-2f79-47a9-a31f-9e7e01cc962e",
   "metadata": {},
   "outputs": [],
   "source": [
    "restore_folder=os.path.join(os.getcwd(),'data/ray_results/20220614_trial1')"
   ]
  },
  {
   "cell_type": "code",
   "execution_count": 4,
   "id": "53610917-9df4-45a5-934e-040d9b7c27be",
   "metadata": {},
   "outputs": [
    {
     "name": "stderr",
     "output_type": "stream",
     "text": [
      "/usr/local/lib/python3.8/dist-packages/sklearn/base.py:329: UserWarning: Trying to unpickle estimator GaussianProcessRegressor from version 1.0 when using version 1.0.2. This might lead to breaking code or invalid results. Use at your own risk. For more info please refer to:\n",
      "https://scikit-learn.org/stable/modules/model_persistence.html#security-maintainability-limitations\n",
      "  warnings.warn(\n"
     ]
    },
    {
     "data": {
      "text/plain": [
       "150"
      ]
     },
     "execution_count": 4,
     "metadata": {},
     "output_type": "execute_result"
    }
   ],
   "source": [
    "bayesopt = BayesOptSearch(metric=\"score\",\n",
    "                          mode=\"min\",\n",
    "                          random_search_steps=150)\n",
    "bayesopt.restore(os.path.join(restore_folder, 'searcher-state-2022-06-17_14-36-27.pkl'))\n",
    "bayesopt._total_random_search_trials"
   ]
  },
  {
   "cell_type": "code",
   "execution_count": 5,
   "id": "6a65a498-74ea-4f23-b73a-256079439fed",
   "metadata": {},
   "outputs": [
    {
     "data": {
      "text/plain": [
       "147"
      ]
     },
     "execution_count": 5,
     "metadata": {},
     "output_type": "execute_result"
    }
   ],
   "source": [
    "len(bayesopt._buffered_trial_results)"
   ]
  },
  {
   "cell_type": "code",
   "execution_count": 6,
   "id": "cad3be08-8f3a-47ad-8dc2-680def887a05",
   "metadata": {},
   "outputs": [],
   "source": [
    "bayesopt._total_random_search_trials=147\n",
    "bayesopt.save(os.path.join(restore_folder, 'searcher-state-2022-06-17_15-00-00.pkl'))"
   ]
  },
  {
   "cell_type": "code",
   "execution_count": 7,
   "id": "26c74cc5-da48-4922-b0fb-e11ef4a4ca41",
   "metadata": {},
   "outputs": [
    {
     "data": {
      "text/plain": [
       "9.909729556485983"
      ]
     },
     "execution_count": 7,
     "metadata": {},
     "output_type": "execute_result"
    }
   ],
   "source": [
    "bayesopt._buffered_trial_results[0][0]['c_ii']"
   ]
  },
  {
   "cell_type": "code",
   "execution_count": 8,
   "id": "cf943709-a1f7-4db8-9af9-1c810c3bf119",
   "metadata": {},
   "outputs": [],
   "source": [
    "with open(os.path.join(restore_folder,'experiment_state-2022-06-17_14-36-27.json')) as f:\n",
    "    ckp=json.load(f)\n",
    "checkpoint=ckp['checkpoints']\n",
    "f.close()"
   ]
  },
  {
   "cell_type": "code",
   "execution_count": 13,
   "id": "051fb715-ae9a-4ec9-85f1-6301be70ac04",
   "metadata": {},
   "outputs": [
    {
     "data": {
      "text/plain": [
       "187"
      ]
     },
     "execution_count": 13,
     "metadata": {},
     "output_type": "execute_result"
    }
   ],
   "source": [
    "checkpoint[0].find('\\n    \"c_ii\": ')"
   ]
  },
  {
   "cell_type": "code",
   "execution_count": 19,
   "id": "50b37bf6-28bc-4bd5-a1bd-1d3af553a232",
   "metadata": {},
   "outputs": [
    {
     "data": {
      "text/plain": [
       "7.666323431412191"
      ]
     },
     "execution_count": 19,
     "metadata": {},
     "output_type": "execute_result"
    }
   ],
   "source": [
    "float(checkpoint[0][200:217])"
   ]
  },
  {
   "cell_type": "code",
   "execution_count": 24,
   "id": "f9b456b0-059a-4eb8-818e-928c2276f4e5",
   "metadata": {},
   "outputs": [
    {
     "data": {
      "text/plain": [
       "'7.666323431412191'"
      ]
     },
     "execution_count": 24,
     "metadata": {},
     "output_type": "execute_result"
    }
   ],
   "source": [
    "checkpoint[0][187+13:187+13+17]"
   ]
  },
  {
   "cell_type": "code",
   "execution_count": 9,
   "id": "ad7ceb08-3952-4b46-ac55-febb5e4dbf2b",
   "metadata": {},
   "outputs": [],
   "source": [
    "useless=[]\n",
    "cts = []\n",
    "for i in range(len(checkpoint)):\n",
    "    c_ii_s = checkpoint[i].find('\\n    \"c_ii\": ')\n",
    "    c_ii = float(checkpoint[i][c_ii_s+13:c_ii_s+13+17])\n",
    "    findone = False\n",
    "    ct = 0\n",
    "    for j in range(len(bayesopt._buffered_trial_results)):\n",
    "        if bayesopt._buffered_trial_results[j][0]['c_ii']== c_ii:\n",
    "            findone = True\n",
    "            ct+=1\n",
    "    cts.append(ct)\n",
    "    if findone==False:\n",
    "        useless.append(i)"
   ]
  },
  {
   "cell_type": "code",
   "execution_count": 10,
   "id": "97d3e5f6-9b7a-45e7-81f4-3c6f7a9ffb96",
   "metadata": {},
   "outputs": [
    {
     "data": {
      "text/plain": [
       "[17, 39, 47, 51, 98, 104, 131]"
      ]
     },
     "execution_count": 10,
     "metadata": {},
     "output_type": "execute_result"
    }
   ],
   "source": [
    "useless"
   ]
  },
  {
   "cell_type": "code",
   "execution_count": 53,
   "id": "9c33629f-6f5c-41c8-9c5f-a0be94f53975",
   "metadata": {},
   "outputs": [
    {
     "data": {
      "text/plain": [
       "(0,)"
      ]
     },
     "execution_count": 53,
     "metadata": {},
     "output_type": "execute_result"
    }
   ],
   "source": [
    "np.where(np.array(cts)==2)[0].shape"
   ]
  },
  {
   "cell_type": "code",
   "execution_count": 67,
   "id": "12b16864-8c80-4a95-bdd8-82f4a6547197",
   "metadata": {},
   "outputs": [],
   "source": [
    "useless2=[]\n",
    "cts2 = []\n",
    "for i in range(len(bayesopt._buffered_trial_results)):\n",
    "    baye_cii = bayesopt._buffered_trial_results[i][0]['c_ii']\n",
    "    findone = False\n",
    "    ct = 0\n",
    "    for j in range(len(checkpoint)):\n",
    "        c_ii_s = checkpoint[j].find('\\n    \"c_ii\": ')\n",
    "        c_ii = float(checkpoint[j][c_ii_s+13:c_ii_s+13+17])\n",
    "        if baye_cii== c_ii:\n",
    "            findone = True\n",
    "            ct+=1\n",
    "    cts2.append(ct)\n",
    "    if findone==False:\n",
    "        useless2.append(i)"
   ]
  },
  {
   "cell_type": "code",
   "execution_count": 68,
   "id": "aff08f04-7d04-4ae5-aa60-b13ebd756d7e",
   "metadata": {},
   "outputs": [
    {
     "data": {
      "text/plain": [
       "[71, 72, 73, 129]"
      ]
     },
     "execution_count": 68,
     "metadata": {},
     "output_type": "execute_result"
    }
   ],
   "source": [
    "useless2"
   ]
  },
  {
   "cell_type": "code",
   "execution_count": 72,
   "id": "f25ebfde-c430-4a62-b0c6-2f211826bd6b",
   "metadata": {},
   "outputs": [
    {
     "data": {
      "text/plain": [
       "['CKPT_FILE_TMPL',\n",
       " 'FINISHED',\n",
       " '__class__',\n",
       " '__delattr__',\n",
       " '__dict__',\n",
       " '__dir__',\n",
       " '__doc__',\n",
       " '__eq__',\n",
       " '__format__',\n",
       " '__ge__',\n",
       " '__getattribute__',\n",
       " '__gt__',\n",
       " '__hash__',\n",
       " '__init__',\n",
       " '__init_subclass__',\n",
       " '__le__',\n",
       " '__lt__',\n",
       " '__module__',\n",
       " '__ne__',\n",
       " '__new__',\n",
       " '__reduce__',\n",
       " '__reduce_ex__',\n",
       " '__repr__',\n",
       " '__setattr__',\n",
       " '__sizeof__',\n",
       " '__str__',\n",
       " '__subclasshook__',\n",
       " '__weakref__',\n",
       " '_analysis',\n",
       " '_buffered_trial_results',\n",
       " '_config_counter',\n",
       " '_live_trial_mapping',\n",
       " '_metric',\n",
       " '_metric_op',\n",
       " '_mode',\n",
       " '_patience',\n",
       " '_points_to_evaluate',\n",
       " '_random_state',\n",
       " '_register_result',\n",
       " '_setup_optimizer',\n",
       " '_skip_duplicate',\n",
       " '_space',\n",
       " '_total_random_search_trials',\n",
       " '_verbose',\n",
       " 'add_evaluated_point',\n",
       " 'add_evaluated_trials',\n",
       " 'convert_search_space',\n",
       " 'get_state',\n",
       " 'max_concurrent',\n",
       " 'metric',\n",
       " 'mode',\n",
       " 'on_trial_complete',\n",
       " 'on_trial_result',\n",
       " 'optimizer',\n",
       " 'random_search_trials',\n",
       " 'register_analysis',\n",
       " 'repeat_float_precision',\n",
       " 'restore',\n",
       " 'restore_from_dir',\n",
       " 'save',\n",
       " 'save_to_dir',\n",
       " 'set_max_concurrency',\n",
       " 'set_search_properties',\n",
       " 'set_state',\n",
       " 'suggest',\n",
       " 'utility']"
      ]
     },
     "execution_count": 72,
     "metadata": {},
     "output_type": "execute_result"
    }
   ],
   "source": [
    "dir(bayesopt)"
   ]
  },
  {
   "cell_type": "code",
   "execution_count": 127,
   "id": "1ecc6194-7da3-407e-bc5a-164cf8e16091",
   "metadata": {},
   "outputs": [
    {
     "data": {
      "text/plain": [
       "147"
      ]
     },
     "execution_count": 127,
     "metadata": {},
     "output_type": "execute_result"
    }
   ],
   "source": [
    "bayesopt._total_random_search_trials"
   ]
  },
  {
   "cell_type": "code",
   "execution_count": 96,
   "id": "bd0ae081-63cf-4a9e-b259-df54dd2905f9",
   "metadata": {},
   "outputs": [
    {
     "name": "stdout",
     "output_type": "stream",
     "text": [
      "None\n"
     ]
    }
   ],
   "source": [
    "print(bayesopt._analysis)"
   ]
  },
  {
   "cell_type": "code",
   "execution_count": 74,
   "id": "c2aa50b1-01d0-4767-8920-61880d969bd1",
   "metadata": {},
   "outputs": [],
   "source": [
    "results = np.array(bayesopt._buffered_trial_results)"
   ]
  },
  {
   "cell_type": "code",
   "execution_count": 77,
   "id": "7e20c396-ce1d-457e-84a0-c3fcba2a6e23",
   "metadata": {},
   "outputs": [
    {
     "data": {
      "text/plain": [
       "7.1120445662476435"
      ]
     },
     "execution_count": 77,
     "metadata": {},
     "output_type": "execute_result"
    }
   ],
   "source": [
    "results[72][0]['c_ii']"
   ]
  },
  {
   "cell_type": "code",
   "execution_count": 91,
   "id": "dd360634-7ade-4c15-b4ab-1012dbe05c76",
   "metadata": {},
   "outputs": [],
   "source": [
    "new_results = np.delete(results, useless2,axis=0)"
   ]
  },
  {
   "cell_type": "code",
   "execution_count": 93,
   "id": "087813f9-0925-42af-8496-ce847633f07c",
   "metadata": {},
   "outputs": [],
   "source": [
    "c_iis = np.array([new_results[i][0]['c_ii'] for i in range(len(new_results))])"
   ]
  },
  {
   "cell_type": "code",
   "execution_count": 94,
   "id": "bcfe60e0-1692-4a27-b073-34378bfc66a9",
   "metadata": {},
   "outputs": [
    {
     "data": {
      "text/plain": [
       "(array([], dtype=int64),)"
      ]
     },
     "execution_count": 94,
     "metadata": {},
     "output_type": "execute_result"
    }
   ],
   "source": [
    "np.where(c_iis==results[72][0]['c_ii'])"
   ]
  },
  {
   "cell_type": "code",
   "execution_count": 125,
   "id": "7d2fbcda-875e-4a27-a783-307f8b9dce13",
   "metadata": {},
   "outputs": [],
   "source": [
    "bopt = bayesopt\n",
    "bopt._buffered_trial_results = new_results"
   ]
  },
  {
   "cell_type": "code",
   "execution_count": 128,
   "id": "d366f019-6029-4b28-9e72-13c9e461c150",
   "metadata": {},
   "outputs": [],
   "source": [
    "bopt._total_random_search_trials=143"
   ]
  },
  {
   "cell_type": "code",
   "execution_count": 129,
   "id": "b4eacfc5-5fd9-46ed-98fa-6cd120a762ff",
   "metadata": {},
   "outputs": [],
   "source": [
    "bopt.save(os.path.join(restore_folder, 'searcher-state-2022-06-17_15-00-00.pkl'))"
   ]
  },
  {
   "cell_type": "code",
   "execution_count": 97,
   "id": "325f0938-5b8c-43b3-889c-cf7b7c981771",
   "metadata": {},
   "outputs": [],
   "source": [
    "def array2tuple(x):\n",
    "    return (x[0],x[1])"
   ]
  },
  {
   "cell_type": "code",
   "execution_count": 106,
   "id": "9f97246c-46a6-4bd3-b889-8a8c3786bfd5",
   "metadata": {},
   "outputs": [
    {
     "data": {
      "text/plain": [
       "143"
      ]
     },
     "execution_count": 106,
     "metadata": {},
     "output_type": "execute_result"
    }
   ],
   "source": [
    "new_buffer = list(map(array2tuple,new_results))\n",
    "len(new_buffer)"
   ]
  },
  {
   "cell_type": "code",
   "execution_count": 11,
   "id": "7a3e2f86-b622-4a42-aa50-351aaceabe6c",
   "metadata": {},
   "outputs": [],
   "source": [
    "ckpt_array = np.array(checkpoint)\n",
    "new_ckpt_array = np.delete(ckpt_array,useless)"
   ]
  },
  {
   "cell_type": "code",
   "execution_count": 12,
   "id": "86865ea1-9b79-4e55-b0c9-3b650e9efc8d",
   "metadata": {},
   "outputs": [],
   "source": [
    "new_ckpt=list(map(str,new_ckpt_array))"
   ]
  },
  {
   "cell_type": "code",
   "execution_count": 13,
   "id": "16f3989a-03d3-433a-a35d-4cfe708927e4",
   "metadata": {},
   "outputs": [
    {
     "data": {
      "text/plain": [
       "143"
      ]
     },
     "execution_count": 13,
     "metadata": {},
     "output_type": "execute_result"
    }
   ],
   "source": [
    "len(new_ckpt)"
   ]
  },
  {
   "cell_type": "code",
   "execution_count": 14,
   "id": "1694e82f-2c6b-4acc-bb4a-ecddaf58eaa4",
   "metadata": {},
   "outputs": [],
   "source": [
    "fp = '/mnt/user/drive/My Libraries/tutorials&explorations/data/ray_results/20220614_trial1/experiment_state-2022-06-17_15-00-00.json'"
   ]
  },
  {
   "cell_type": "code",
   "execution_count": 34,
   "id": "b5c24572-5994-4488-bb97-cdfb3985ff76",
   "metadata": {},
   "outputs": [],
   "source": [
    "ckp['checkpoints'] = new_ckpt"
   ]
  },
  {
   "cell_type": "code",
   "execution_count": 35,
   "id": "c7ba424a-e107-4630-9553-f5c0b2abf5ba",
   "metadata": {},
   "outputs": [],
   "source": [
    "ckp['runner_data']['checkpoint_file'] = fp"
   ]
  },
  {
   "cell_type": "code",
   "execution_count": 36,
   "id": "8830dc21-fba0-4867-84db-afc46e83d4c8",
   "metadata": {},
   "outputs": [
    {
     "data": {
      "text/plain": [
       "{'start_time': 1655469387.466305, 'timestamp': 1655547700.0619483}"
      ]
     },
     "execution_count": 36,
     "metadata": {},
     "output_type": "execute_result"
    }
   ],
   "source": [
    "ckp['stats']"
   ]
  },
  {
   "cell_type": "code",
   "execution_count": 37,
   "id": "133408be-5d84-4e48-ab77-38a9daf4efb6",
   "metadata": {},
   "outputs": [],
   "source": [
    "with open(fp, \"w\") as f:\n",
    "    json.dump(ckp, f, indent=2, cls=TuneFunctionEncoder)\n",
    "f.close()"
   ]
  },
  {
   "cell_type": "code",
   "execution_count": 2,
   "id": "3b37e8f0-d953-47a6-b992-cc3eb4f29471",
   "metadata": {},
   "outputs": [],
   "source": [
    "from ray.tune.suggest.suggestion import ConcurrencyLimiter, Searcher\n",
    "from ray.tune.suggest import SearchGenerator\n",
    "search_alg = BayesOptSearch(metric=\"score\",\n",
    "                          mode=\"min\",\n",
    "                          random_search_steps=150)\n",
    "max_concurrent_trials = 3\n",
    "search_alg = ConcurrencyLimiter(search_alg, max_concurrent=max_concurrent_trials)"
   ]
  },
  {
   "cell_type": "code",
   "execution_count": 3,
   "id": "5f80a2bd-b078-447d-912f-28434c36ef26",
   "metadata": {},
   "outputs": [],
   "source": [
    "if isinstance(search_alg, Searcher):\n",
    "        search_alg = SearchGenerator(search_alg)"
   ]
  },
  {
   "cell_type": "code",
   "execution_count": 6,
   "id": "9cf6a47f-f656-418e-8f56-057cb5526d4c",
   "metadata": {
    "tags": []
   },
   "outputs": [],
   "source": [
    "dirpath = '/mnt/user/drive/My Libraries/tutorials&explorations/data/ray_results/20220614_trial1'\n",
    "search_alg.restore_from_dir(dirpath)"
   ]
  },
  {
   "cell_type": "code",
   "execution_count": 10,
   "id": "8e3c9ab8-7963-4e8c-8784-d69861810d7f",
   "metadata": {},
   "outputs": [],
   "source": [
    "CKPT_FILE_TMPL = \"search_gen_state-{}.json\"\n",
    "search_alg_state = tune.utils.util.load_newest_checkpoint(\n",
    "            dirpath, CKPT_FILE_TMPL.format(\"*\")\n",
    "        )"
   ]
  },
  {
   "cell_type": "code",
   "execution_count": 23,
   "id": "f820f6c5-bda5-45e6-8f91-d2de49348a14",
   "metadata": {},
   "outputs": [],
   "source": [
    "search_alg_state['counter']=143"
   ]
  },
  {
   "cell_type": "code",
   "execution_count": 25,
   "id": "0d8900d8-c6c9-4d84-ac23-c5d926f58f89",
   "metadata": {},
   "outputs": [],
   "source": [
    "tune.utils.util.atomic_save(state=search_alg_state,checkpoint_dir=dirpath,file_name='search_gen_state-2022-06-17_15-00-00.json',tmp_file_name='search_gen_state-2022-06-17_15-00-00.json')"
   ]
  },
  {
   "cell_type": "code",
   "execution_count": 38,
   "id": "f5feb84a-4566-4bba-b381-66608d8e077c",
   "metadata": {},
   "outputs": [],
   "source": [
    "with open(fp) as f:\n",
    "    runner_state = json.load(f, cls=TuneFunctionDecoder)\n",
    "    f.close()"
   ]
  },
  {
   "cell_type": "code",
   "execution_count": 39,
   "id": "ee3a4e20-4fbb-40a9-b677-ee369a7e53ae",
   "metadata": {},
   "outputs": [
    {
     "data": {
      "text/plain": [
       "143"
      ]
     },
     "execution_count": 39,
     "metadata": {},
     "output_type": "execute_result"
    }
   ],
   "source": [
    "len(runner_state['checkpoints'])"
   ]
  },
  {
   "cell_type": "code",
   "execution_count": null,
   "id": "f5a952c1-2097-4b90-9fae-0016cd8449e5",
   "metadata": {},
   "outputs": [],
   "source": []
  }
 ],
 "metadata": {
  "kernelspec": {
   "display_name": "Python 3 (ipykernel)",
   "language": "python",
   "name": "python3"
  },
  "language_info": {
   "codemirror_mode": {
    "name": "ipython",
    "version": 3
   },
   "file_extension": ".py",
   "mimetype": "text/x-python",
   "name": "python",
   "nbconvert_exporter": "python",
   "pygments_lexer": "ipython3",
   "version": "3.8.10"
  }
 },
 "nbformat": 4,
 "nbformat_minor": 5
}
