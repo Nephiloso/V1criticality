{
 "cells": [
  {
   "cell_type": "code",
   "execution_count": 1,
   "id": "2c282335-6409-472b-9cb7-bea80c18fdf4",
   "metadata": {},
   "outputs": [
    {
     "name": "stdout",
     "output_type": "stream",
     "text": [
      "Populating the interactive namespace from numpy and matplotlib\n"
     ]
    }
   ],
   "source": [
    "%pylab inline"
   ]
  },
  {
   "cell_type": "code",
   "execution_count": 2,
   "id": "ce61f4c1-9966-4958-b624-7b993ce03209",
   "metadata": {},
   "outputs": [],
   "source": [
    "from ray import tune\n",
    "import numpy as np\n",
    "import pandas as pd\n",
    "import os\n",
    "import datetime\n",
    "from ray.tune.suggest.bayesopt import BayesOptSearch\n",
    "from one_region_simu import *\n",
    "from evaluation import *\n",
    "import pdb\n",
    "import sys"
   ]
  },
  {
   "cell_type": "code",
   "execution_count": 3,
   "id": "637f8627-efc9-40c7-a27f-1f64302bea2c",
   "metadata": {
    "tags": []
   },
   "outputs": [],
   "source": [
    "data_folder = os.path.join(os.getcwd(), 'data')\n",
    "exp_name = '20220608_trial0'\n",
    "ray_folder = os.path.join(data_folder,'ray_results')\n",
    "exp_folder = os.path.join(ray_folder, exp_name)\n",
    "restore_folder = exp_folder\n",
    "os.makedirs(exp_folder, exist_ok=True)\n",
    "# os.environ['RAY_PICKLE_VERBOSE_DEBUG']='1'"
   ]
  },
  {
   "cell_type": "code",
   "execution_count": 4,
   "id": "915d147b-791d-41cd-8334-32c316bd8923",
   "metadata": {},
   "outputs": [],
   "source": [
    "config={'ntau':tune.uniform(0.0000001,10),\n",
    "        'nsig': tune.uniform(0.001,0.01),\n",
    "        \"c_ee\": tune.uniform(12.5, 13.5),\n",
    "        \"c_ei\": tune.uniform(7, 10),\n",
    "        'c_ie': tune.uniform(6, 18),\n",
    "        'c_ii': tune.uniform(7, 10),\n",
    "        'tau_e': tune.uniform(0, 150),\n",
    "        'tau_i': tune.uniform(0, 150),\n",
    "        'r_e': tune.uniform(0.5, 2),\n",
    "        'r_i': tune.uniform(0.5, 2)\n",
    "        }\n",
    "\n",
    "def run_model(config):\n",
    "    params = config_params({\"c_ee\":config['c_ee'],'c_ei':config['c_ei'],'c_ie':config['c_ie'],'c_ii':config['c_ii'],\n",
    "                   'tau_e':config['tau_e'],'tau_i':config['tau_i'],'r_e':config['r_e'],'r_i':config['r_i']})\n",
    "    score = eva_limit_cycle(params)\n",
    "    if not score:\n",
    "        region = config_one_region()\n",
    "        surface = config_surface(region)\n",
    "        sim = config_simulator(params, region, surface)\n",
    "        result_name = run_simulation(sim, params, check_point=12500,data_folder=data_folder)\n",
    "        score = get_score(result_name)\n",
    "    tune.report(score=score)"
   ]
  },
  {
   "cell_type": "code",
   "execution_count": 5,
   "id": "0a19d19b-5008-4c75-a773-607966b8e264",
   "metadata": {},
   "outputs": [],
   "source": [
    "# # Customize the logger\n",
    "from typing import Dict, List\n",
    "import json\n",
    "from ray.tune.logger import LoggerCallback\n",
    "from tensorboardX import SummaryWriter\n",
    "from shutil import rmtree\n",
    "\n",
    "class CustomLoggerCallback(LoggerCallback):\n",
    "    \"\"\"Put the results of all trails in the same file\"\"\"\n",
    "\n",
    "    def __init__(self, filefolder, filename: str = \"log.txt\", bayesopt=None):\n",
    "        self._filename = filename\n",
    "        self._filefolder = filefolder\n",
    "        self._filepath = os.path.join(filefolder, self._filename)\n",
    "        self.bayesopt = bayesopt\n",
    "        self.waive_params = [\"time_this_iter_s\",\"timesteps_total\",\"episodes_total\",\"timestamp\", \"pid\",\n",
    "                 \"hostname\", \"node_ip\", \"timesteps_since_restore\", \"iterations_since_restore\", \"warmup_time\"]\n",
    "        \n",
    "    def log_trial_start(self, trial: \"Trial\"):\n",
    "        self._file = open(self._filepath, \"at\")\n",
    "        self._file.write(json.dumps(trial.evaluated_params))\n",
    "        self.summarywriter = SummaryWriter(os.path.join(self._filefolder,'tensor_events'))\n",
    "\n",
    "    def log_trial_result(self, iteration: int, trial: \"Trial\", result: Dict):\n",
    "        self._file = open(self._filepath, \"at\")\n",
    "        for k, v in list(result.items()):\n",
    "            if k in self.waive_params:\n",
    "                del result[k]\n",
    "                continue\n",
    "            if isinstance(v, (np.ndarray,)):\n",
    "                result[k] = v.tolist()\n",
    "        self._file.write(json.dumps(result))\n",
    "        self.summarywriter.add_scalar('score', result['score'], len(self.bayesopt._buffered_trial_results)+1)\n",
    "\n",
    "    def on_trial_complete(self, iteration: int, trials: List[\"Trial\"],\n",
    "                          trial: \"Trial\", **info):\n",
    "        self._file = open(self._filepath, \"at\")\n",
    "        self._file.write(str(datetime.datetime.now())+'\\n')\n",
    "        self._file.close()\n",
    "\n",
    "        self.summarywriter.close()"
   ]
  },
  {
   "cell_type": "code",
   "execution_count": null,
   "id": "0ebfd98d-cafc-42c7-b262-e5e7ebc762ad",
   "metadata": {
    "tags": []
   },
   "outputs": [
    {
     "data": {
      "text/html": [
       "== Status ==<br>Current time: 2022-06-08 13:28:34 (running for 00:04:30.33)<br>Memory usage on this node: 5.0/15.5 GiB<br>Using FIFO scheduling algorithm.<br>Resources requested: 3.0/4 CPUs, 0/0 GPUs, 0.0/0.67 GiB heap, 0.0/0.34 GiB objects<br>Current best trial: 842bd00a with score=2 and parameters={'ntau': 1.5599452877625746, 'nsig': 0.0024041677639819285, 'c_ee': 12.874540118847362, 'c_ei': 9.852142919229749, 'c_ie': 14.783927301736862, 'c_ii': 8.79597545259111, 'tau_e': 90.16725176148132, 'tau_i': 106.21088666940682, 'r_e': 0.5871254182522991, 'r_i': 1.7992642186624028}<br>Result logdir: /mnt/user/drive/My Libraries/tutorials&explorations/data/ray_results/20220608_trial0<br>Number of trials: 8/infinite (3 RUNNING, 5 TERMINATED)<br><table>\n",
       "<thead>\n",
       "<tr><th>Trial name        </th><th>status    </th><th>loc               </th><th style=\"text-align: right;\">  &lt;ray.tune.sample.Float object at 0x7f5ec816b4f0&gt;</th><th style=\"text-align: right;\">  &lt;ray.tune.sample.Float object at 0x7f5ec816b580&gt;</th><th style=\"text-align: right;\">  &lt;ray.tune.sample.Float object at 0x7f5ec816b610&gt;</th><th style=\"text-align: right;\">  &lt;ray.tune.sample.Float object at 0x7f5ec816b6a0&gt;</th><th style=\"text-align: right;\">  &lt;ray.tune.sample.Float object at 0x7f5ec816b730&gt;</th><th style=\"text-align: right;\">  &lt;ray.tune.sample.Float object at 0x7f5ec816b7c0&gt;</th><th style=\"text-align: right;\">  &lt;ray.tune.sample.Float object at 0x7f5ec816b850&gt;</th><th style=\"text-align: right;\">  &lt;ray.tune.sample.Float object at 0x7f5ec816b8e0&gt;</th><th style=\"text-align: right;\">  &lt;ray.tune.sample.Float object at 0x7f5ec816b9a0&gt;</th><th style=\"text-align: right;\">  &lt;ray.tune.sample.Float object at 0x7f5ec816ba30&gt;</th></tr>\n",
       "</thead>\n",
       "<tbody>\n",
       "<tr><td>run_model_810031dc</td><td>RUNNING   </td><td>10.130.5.143:56726</td><td style=\"text-align: right;\">                                           0.5    </td><td style=\"text-align: right;\">                                        0.005     </td><td style=\"text-align: right;\">                                           13.25  </td><td style=\"text-align: right;\">                                          12      </td><td style=\"text-align: right;\">                                           9.23   </td><td style=\"text-align: right;\">                                           2      </td><td style=\"text-align: right;\">                                          10      </td><td style=\"text-align: right;\">                                          10      </td><td style=\"text-align: right;\">                                          1       </td><td style=\"text-align: right;\">                                          1       </td></tr>\n",
       "<tr><td>run_model_906138d8</td><td>RUNNING   </td><td>10.130.5.143:56910</td><td style=\"text-align: right;\">                                           9.21874</td><td style=\"text-align: right;\">                                        0.0063811 </td><td style=\"text-align: right;\">                                           13.4696</td><td style=\"text-align: right;\">                                           9.3254 </td><td style=\"text-align: right;\">                                          17.274  </td><td style=\"text-align: right;\">                                           9.68448</td><td style=\"text-align: right;\">                                           6.78409</td><td style=\"text-align: right;\">                                          48.7995 </td><td style=\"text-align: right;\">                                          0.632739</td><td style=\"text-align: right;\">                                          0.793974</td></tr>\n",
       "<tr><td>run_model_93c8de4a</td><td>RUNNING   </td><td>10.130.5.143:56973</td><td style=\"text-align: right;\">                                           5.42696</td><td style=\"text-align: right;\">                                        0.00352841</td><td style=\"text-align: right;\">                                           12.8887</td><td style=\"text-align: right;\">                                           7.81405</td><td style=\"text-align: right;\">                                          15.9449 </td><td style=\"text-align: right;\">                                           8.07026</td><td style=\"text-align: right;\">                                          11.1826 </td><td style=\"text-align: right;\">                                         148.033  </td><td style=\"text-align: right;\">                                          0.711386</td><td style=\"text-align: right;\">                                          1.7033  </td></tr>\n",
       "<tr><td>run_model_842bd00a</td><td>TERMINATED</td><td>10.130.5.143:56759</td><td style=\"text-align: right;\">                                           1.55995</td><td style=\"text-align: right;\">                                        0.00240417</td><td style=\"text-align: right;\">                                           12.8745</td><td style=\"text-align: right;\">                                           9.85214</td><td style=\"text-align: right;\">                                          14.7839 </td><td style=\"text-align: right;\">                                           8.79598</td><td style=\"text-align: right;\">                                          90.1673 </td><td style=\"text-align: right;\">                                         106.211  </td><td style=\"text-align: right;\">                                          0.587125</td><td style=\"text-align: right;\">                                          1.79926 </td></tr>\n",
       "<tr><td>run_model_8756bbaa</td><td>TERMINATED</td><td>10.130.5.143:56793</td><td style=\"text-align: right;\">                                           1.83405</td><td style=\"text-align: right;\">                                        0.00263642</td><td style=\"text-align: right;\">                                           12.5206</td><td style=\"text-align: right;\">                                           9.90973</td><td style=\"text-align: right;\">                                          15.9893 </td><td style=\"text-align: right;\">                                           7.63702</td><td style=\"text-align: right;\">                                          64.7918 </td><td style=\"text-align: right;\">                                          43.6844 </td><td style=\"text-align: right;\">                                          0.956363</td><td style=\"text-align: right;\">                                          1.28713 </td></tr>\n",
       "<tr><td>run_model_8a9694ca</td><td>TERMINATED</td><td>10.130.5.143:56832</td><td style=\"text-align: right;\">                                           7.85176</td><td style=\"text-align: right;\">                                        0.00510463</td><td style=\"text-align: right;\">                                           13.1119</td><td style=\"text-align: right;\">                                           7.41848</td><td style=\"text-align: right;\">                                           9.50574</td><td style=\"text-align: right;\">                                           8.09909</td><td style=\"text-align: right;\">                                          88.8622 </td><td style=\"text-align: right;\">                                           6.96756</td><td style=\"text-align: right;\">                                          0.799511</td><td style=\"text-align: right;\">                                          1.27135 </td></tr>\n",
       "<tr><td>run_model_8baff6c6</td><td>TERMINATED</td><td>10.130.5.143:56839</td><td style=\"text-align: right;\">                                           8.08397</td><td style=\"text-align: right;\">                                        0.00969069</td><td style=\"text-align: right;\">                                           13.1075</td><td style=\"text-align: right;\">                                           7.51157</td><td style=\"text-align: right;\">                                           6.78062</td><td style=\"text-align: right;\">                                           9.84666</td><td style=\"text-align: right;\">                                         102.635  </td><td style=\"text-align: right;\">                                          66.0229 </td><td style=\"text-align: right;\">                                          0.956921</td><td style=\"text-align: right;\">                                          0.646508</td></tr>\n",
       "<tr><td>run_model_8f5e2a90</td><td>TERMINATED</td><td>10.130.5.143:56902</td><td style=\"text-align: right;\">                                           6.62522</td><td style=\"text-align: right;\">                                        0.00332902</td><td style=\"text-align: right;\">                                           12.622 </td><td style=\"text-align: right;\">                                           8.48553</td><td style=\"text-align: right;\">                                           6.41266</td><td style=\"text-align: right;\">                                           9.72796</td><td style=\"text-align: right;\">                                          82.0065 </td><td style=\"text-align: right;\">                                          27.7282 </td><td style=\"text-align: right;\">                                          0.967567</td><td style=\"text-align: right;\">                                          1.2801  </td></tr>\n",
       "</tbody>\n",
       "</table><br><br>"
      ],
      "text/plain": [
       "<IPython.core.display.HTML object>"
      ]
     },
     "metadata": {},
     "output_type": "display_data"
    }
   ],
   "source": [
    "smoke_test = False\n",
    "restore = False\n",
    "nsample = -1\n",
    "debug = True\n",
    "bayesopt = BayesOptSearch(metric=\"score\",\n",
    "                          mode=\"min\",\n",
    "                          points_to_evaluate=[{'ntau':0.5, 'nsig': 0.005, \"c_ee\": 13.25, \"c_ei\": 12.0,\n",
    "                                               'c_ie': 9.23, 'c_ii': 2.0, 'tau_e': 10,\n",
    "                                               'tau_i': 10,'r_e': 1.0,'r_i': 1.0}],\n",
    "                          random_search_steps=800)\n",
    "# pdb.set_trace()\n",
    "if restore:\n",
    "    bayesopt.restore(os.path.join(restore_folder, 'baye_checkpoint.pkl'))\n",
    "    # bayesopt._total_random_search_trials=99\n",
    "if debug:\n",
    "    sys.path.append('/opt/app-root/src/.local/lib/python3.8/site-packages/ray/tune')\n",
    "    # pdb.set_trace()\n",
    "try:\n",
    "    analysis = tune.run(run_model,\n",
    "                        verbose=3,\n",
    "                        name = exp_name,\n",
    "                        local_dir=ray_folder,\n",
    "                        search_alg=bayesopt,\n",
    "                        config=config,\n",
    "                        metric=\"score\",\n",
    "                        mode=\"min\",\n",
    "                        progress_reporter=tune.JupyterNotebookReporter(overwrite=True,metric_columns='score',\n",
    "                                                                      parameter_columns=config),\n",
    "                        callbacks=[CustomLoggerCallback(bayesopt=bayesopt, filefolder=exp_folder, filename= \"log_test.txt\")],\n",
    "                        stop={'score':0.08},\n",
    "                        # resume= 'ERRORED_ONLY', # do this when you whant to resume a stopped experiment option:'ERRORED_ONLY'\n",
    "                        max_concurrent_trials = 3,\n",
    "                        num_samples=2 if smoke_test else nsample)\n",
    "except ValueError as e:\n",
    "    # TODO: Add the error!\n",
    "    if str(e) == \"blablabla\":\n",
    "        analysis = tune.run(run_model,\n",
    "                            verbose=3,\n",
    "                            name = exp_name,\n",
    "                            local_dir=ray_folder,\n",
    "                            search_alg=bayesopt,\n",
    "                            # config=config,\n",
    "                            metric=\"score\",\n",
    "                            mode=\"min\",\n",
    "                            progress_reporter=tune.JupyterNotebookReporter(overwrite=True,metric_columns='score',\n",
    "                                                                      parameter_columns=config),\n",
    "                            callbacks=[CustomLoggerCallback(filefolder=exp_folder, filename= \"log_test.txt\",bayesopt=bayesopt)],\n",
    "                            stop={'score':0.08},\n",
    "                            # resume=True, # do this when you whant to resume a stopped experiment\n",
    "                            max_concurrent_trials = 3,\n",
    "                            num_samples=2 if smoke_test else nsample)\n",
    "    elif str(e) ==  \"'NoneType' object is not callable\":\n",
    "        pdb.post_mortem()\n",
    "    else:\n",
    "        raise\n",
    "except:\n",
    "    pdb.post_mortem(sys.exc_info()[2])"
   ]
  },
  {
   "cell_type": "code",
   "execution_count": null,
   "id": "37ada812-f501-46ba-ae38-487f095da1c5",
   "metadata": {},
   "outputs": [],
   "source": [
    "# save the current experiment\n",
    "save_ckp=True\n",
    "if save_ckp:\n",
    "    bayesopt.save(os.path.join(exp_folder, 'baye_checkpoint.pkl'))"
   ]
  },
  {
   "cell_type": "code",
   "execution_count": null,
   "id": "96edba23-0af0-406d-9eb8-b55c8339a69d",
   "metadata": {
    "tags": []
   },
   "outputs": [],
   "source": [
    "print(\"Best hyperparameters found were: \", analysis.best_config)\n",
    "print(\"Best result: \", analysis.best_result)\n",
    "analysis.results_df"
   ]
  },
  {
   "cell_type": "markdown",
   "id": "991b0581-1e98-49ee-9da6-fe1fccfb5a98",
   "metadata": {},
   "source": [
    "## Load the result from file"
   ]
  },
  {
   "cell_type": "code",
   "execution_count": null,
   "id": "546d9103-360f-417a-893e-2b8d57eeb738",
   "metadata": {},
   "outputs": [],
   "source": [
    "from ray.tune import ExperimentAnalysis\n",
    "analysis = ExperimentAnalysis(exp_folder)"
   ]
  },
  {
   "cell_type": "code",
   "execution_count": null,
   "id": "1d408850-e34e-486b-ae94-2926e0663f7e",
   "metadata": {},
   "outputs": [],
   "source": [
    "analysis.get_best_config(metric=\"score\",mode=\"min\",)"
   ]
  },
  {
   "cell_type": "code",
   "execution_count": null,
   "id": "3914105e-fb98-4b1b-a850-cce6ea71fd1d",
   "metadata": {},
   "outputs": [],
   "source": [
    "analysis.trials[0].metric_analysis"
   ]
  },
  {
   "cell_type": "code",
   "execution_count": null,
   "id": "ad51f88c-b5fa-4ff3-afc2-943d240c52a0",
   "metadata": {},
   "outputs": [],
   "source": [
    "min(analysis.results_df.score)"
   ]
  }
 ],
 "metadata": {
  "kernelspec": {
   "display_name": "EBRAINS_release_v0.1_202109",
   "language": "python",
   "name": "spack_python_kernel_release_20210930"
  },
  "language_info": {
   "codemirror_mode": {
    "name": "ipython",
    "version": 3
   },
   "file_extension": ".py",
   "mimetype": "text/x-python",
   "name": "python",
   "nbconvert_exporter": "python",
   "pygments_lexer": "ipython3",
   "version": "3.8.11"
  }
 },
 "nbformat": 4,
 "nbformat_minor": 5
}
