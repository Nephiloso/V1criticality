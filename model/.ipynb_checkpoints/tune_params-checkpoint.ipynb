{
 "cells": [
  {
   "cell_type": "code",
   "execution_count": 17,
   "id": "2c282335-6409-472b-9cb7-bea80c18fdf4",
   "metadata": {},
   "outputs": [
    {
     "name": "stdout",
     "output_type": "stream",
     "text": [
      "Populating the interactive namespace from numpy and matplotlib\n"
     ]
    },
    {
     "name": "stderr",
     "output_type": "stream",
     "text": [
      "/srv/main-spack-instance/spack/var/spack/environments/release_v0_1_202109_hotfix/.spack-env/view/lib/python3.8/site-packages/IPython/core/magics/pylab.py:159: UserWarning: pylab import has clobbered these variables: ['hamming']\n",
      "`%matplotlib` prevents importing * from pylab and numpy\n",
      "  warn(\"pylab import has clobbered these variables: %s\"  % clobbered +\n"
     ]
    }
   ],
   "source": [
    "%pylab inline"
   ]
  },
  {
   "cell_type": "code",
   "execution_count": 18,
   "id": "ce61f4c1-9966-4958-b624-7b993ce03209",
   "metadata": {},
   "outputs": [],
   "source": [
    "from ray import tune\n",
    "import numpy as np\n",
    "import pandas as pd\n",
    "import os\n",
    "import datetime\n",
    "from ray.tune.suggest.bayesopt import BayesOptSearch\n",
    "from one_region_simu import *\n",
    "from evaluation import *\n",
    "import pdb\n",
    "import sys"
   ]
  },
  {
   "cell_type": "code",
   "execution_count": 19,
   "id": "637f8627-efc9-40c7-a27f-1f64302bea2c",
   "metadata": {
    "tags": []
   },
   "outputs": [],
   "source": [
    "data_folder = os.path.join(os.getcwd(), 'data')\n",
    "exp_name = '20220623_trial1'\n",
    "ray_folder = os.path.join(data_folder,'ray_results')\n",
    "exp_folder = os.path.join(ray_folder, exp_name)\n",
    "restore_folder = exp_folder\n",
    "os.makedirs(exp_folder, exist_ok=True)\n",
    "# os.environ['RAY_PICKLE_VERBOSE_DEBUG']='1'"
   ]
  },
  {
   "cell_type": "code",
   "execution_count": 20,
   "id": "915d147b-791d-41cd-8334-32c316bd8923",
   "metadata": {},
   "outputs": [],
   "source": [
    "config={\n",
    "    'nsig':tune.uniform(0.0001,0.004),\n",
    "    'sigma': tune.uniform(0.2, 0.5),\n",
    "        \"c_ee\": tune.uniform(8, 18),\n",
    "        'c_ie': tune.uniform(7.5, 10)}\n",
    "\n",
    "def run_model(config):\n",
    "    params = config_params(nsig=config['nsig'],sigma=config['sigma'], c_ee=config['c_ee'],c_ie=config['c_ie'])\n",
    "    # score = eva_limit_cycle(params)\n",
    "    # if not score:\n",
    "    region = config_one_region()\n",
    "    surface = config_surface(region)\n",
    "    sim = config_simulator(params, region, surface)\n",
    "    result_name = run_simulation(sim, params, check_point=12500,data_folder=data_folder)\n",
    "    score, dfa_all, f_peak = dfa_analysis(result_name)\n",
    "    tune.report(score=score, dfa_all = dfa_all, f_peak=f_peak)"
   ]
  },
  {
   "cell_type": "code",
   "execution_count": 21,
   "id": "0a19d19b-5008-4c75-a773-607966b8e264",
   "metadata": {},
   "outputs": [],
   "source": [
    "# # Customize the logger\n",
    "from typing import Dict, List\n",
    "import json\n",
    "from ray.tune.logger import LoggerCallback\n",
    "from tensorboardX import SummaryWriter\n",
    "from shutil import rmtree\n",
    "\n",
    "class CustomLoggerCallback(LoggerCallback):\n",
    "    \"\"\"Put the results of all trails in the same file\"\"\"\n",
    "\n",
    "    def __init__(self, filefolder, filename: str = \"log.txt\", bayesopt=None):\n",
    "        self._filename = filename\n",
    "        self._filefolder = filefolder\n",
    "        self._filepath = os.path.join(filefolder, self._filename)\n",
    "        self.bayesopt = bayesopt\n",
    "        self.waive_params = [\"time_this_iter_s\",\"timesteps_total\",\"episodes_total\",\"timestamp\", \"pid\",\n",
    "                 \"hostname\", \"node_ip\", \"timesteps_since_restore\", \"iterations_since_restore\", \"warmup_time\"]\n",
    "        \n",
    "    def log_trial_start(self, trial: \"Trial\"):\n",
    "        self._file = open(self._filepath, \"at\")\n",
    "        self.summarywriter = SummaryWriter(os.path.join(self._filefolder,'tensor_events'))\n",
    "\n",
    "    def log_trial_result(self, iteration: int, trial: \"Trial\", result: Dict):\n",
    "        self._file = open(self._filepath, \"at\")\n",
    "        for k, v in list(result.items()):\n",
    "            if k in self.waive_params:\n",
    "                del result[k]\n",
    "                continue\n",
    "            if isinstance(v, (np.ndarray,)):\n",
    "                result[k] = v.tolist()\n",
    "        self._file.write(json.dumps(result))\n",
    "        self.summarywriter.add_scalar('score', result['score'], len(self.bayesopt._buffered_trial_results)+1)\n",
    "        self.summarywriter.add_scalar('dfa_delta', result['dfa_all']['delta'], len(self.bayesopt._buffered_trial_results)+1)\n",
    "        self.summarywriter.add_scalar('dfa_theta', result['dfa_all']['theta'], len(self.bayesopt._buffered_trial_results)+1)\n",
    "        self.summarywriter.add_scalar('dfa_alpha', result['dfa_all']['alpha'], len(self.bayesopt._buffered_trial_results)+1)\n",
    "        self.summarywriter.add_scalar('dfa_beta', result['dfa_all']['beta'], len(self.bayesopt._buffered_trial_results)+1)\n",
    "        self.summarywriter.add_scalar('dfa_gamma', result['dfa_all']['gamma'], len(self.bayesopt._buffered_trial_results)+1)\n",
    "        self.summarywriter.add_scalar('dfa_raw', result['dfa_all']['raw'], len(self.bayesopt._buffered_trial_results)+1)\n",
    "        self.summarywriter.add_scalar('dfa_raw', result['dfa_all']['dfa_this_trial'], len(self.bayesopt._buffered_trial_results)+1)\n",
    "        self.summarywriter.add_scalar('f_peak', result['f_peak'], len(self.bayesopt._buffered_trial_results)+1)\n",
    "\n",
    "    def on_trial_complete(self, iteration: int, trials: List[\"Trial\"],\n",
    "                          trial: \"Trial\", **info):\n",
    "        self._file = open(self._filepath, \"at\")\n",
    "        self._file.write(str(datetime.datetime.now())+'\\n')\n",
    "        self._file.close()\n",
    "\n",
    "        self.summarywriter.close()"
   ]
  },
  {
   "cell_type": "code",
   "execution_count": null,
   "id": "0ebfd98d-cafc-42c7-b262-e5e7ebc762ad",
   "metadata": {
    "tags": []
   },
   "outputs": [
    {
     "data": {
      "text/html": [
       "== Status ==<br>Current time: 2022-06-24 18:37:30 (running for 16:12:40.41)<br>Memory usage on this node: 4.6/15.5 GiB<br>Using FIFO scheduling algorithm.<br>Resources requested: 1.0/1 CPUs, 0/0 GPUs, 0.0/0.48 GiB heap, 0.0/0.24 GiB objects<br>Current best trial: d859851c with score=0.3709716946754397 and parameters={'nsig': 0.0008091173721076925, 'sigma': 0.2550213529560302, 'c_ee': 16.324426408004218, 'c_ie': 8.03084777669569}<br>Result logdir: /mnt/user/drive/My Libraries/tutorials&explorations/data/ray_results/20220623_trial1<br>Number of trials: 25/infinite (6 ERROR, 1 PENDING, 1 RUNNING, 17 TERMINATED)<br><table>\n",
       "<thead>\n",
       "<tr><th>Trial name        </th><th>status    </th><th>loc               </th><th>&lt;ray.tune.sample.Float object at 0x7f6771964d30&gt;  </th><th style=\"text-align: right;\">  &lt;ray.tune.sample.Float object at 0x7f6771964460&gt;</th><th style=\"text-align: right;\">  &lt;ray.tune.sample.Float object at 0x7f6771964be0&gt;</th><th style=\"text-align: right;\">  &lt;ray.tune.sample.Float object at 0x7f6771964610&gt;</th></tr>\n",
       "</thead>\n",
       "<tbody>\n",
       "<tr><td>run_model_9f900c7e</td><td>RUNNING   </td><td>10.128.3.134:24126</td><td>0.0005664175591593767                             </td><td style=\"text-align: right;\">                                          0.413973</td><td style=\"text-align: right;\">                                          16.8721 </td><td style=\"text-align: right;\">                                           8.68054</td></tr>\n",
       "<tr><td>run_model_7a0ea71c</td><td>PENDING   </td><td>                  </td><td>0.003106772001822788                              </td><td style=\"text-align: right;\">                                          0.348139</td><td style=\"text-align: right;\">                                          15.6079 </td><td style=\"text-align: right;\">                                           8.90319</td></tr>\n",
       "<tr><td>run_model_15c584ce</td><td>TERMINATED</td><td>10.128.3.134:12909</td><td>0.0038813800482817786                             </td><td style=\"text-align: right;\">                                          0.43254 </td><td style=\"text-align: right;\">                                          13.4671 </td><td style=\"text-align: right;\">                                           7.96214</td></tr>\n",
       "<tr><td>run_model_182b4b2c</td><td>TERMINATED</td><td>10.128.3.134:11792</td><td>0.001315673196748703                              </td><td style=\"text-align: right;\">                                          0.35602 </td><td style=\"text-align: right;\">                                          10.5878 </td><td style=\"text-align: right;\">                                           9.15631</td></tr>\n",
       "<tr><td>run_model_1ce50d24</td><td>TERMINATED</td><td>10.128.3.134:14031</td><td>0.002431809917363232                              </td><td style=\"text-align: right;\">                                          0.476562</td><td style=\"text-align: right;\">                                          17.395  </td><td style=\"text-align: right;\">                                           9.73707</td></tr>\n",
       "<tr><td>run_model_2bc29b86</td><td>TERMINATED</td><td>10.128.3.134:15165</td><td>0.0002763864267510985                             </td><td style=\"text-align: right;\">                                          0.297599</td><td style=\"text-align: right;\">                                           8.88493</td><td style=\"text-align: right;\">                                           7.98996</td></tr>\n",
       "<tr><td>run_model_4fdcbc86</td><td>TERMINATED</td><td>10.128.3.134:16285</td><td>0.0033320762856925245                             </td><td style=\"text-align: right;\">                                          0.307026</td><td style=\"text-align: right;\">                                          11.8868 </td><td style=\"text-align: right;\">                                           8.17837</td></tr>\n",
       "<tr><td>run_model_56a3e5f8</td><td>TERMINATED</td><td>10.128.3.134:19648</td><td>0.0028567436410057065                             </td><td style=\"text-align: right;\">                                          0.418702</td><td style=\"text-align: right;\">                                           8.05522</td><td style=\"text-align: right;\">                                           9.53865</td></tr>\n",
       "<tr><td>run_model_5964aba6</td><td>TERMINATED</td><td>10.128.3.134:17406</td><td>0.0006496044774015744                             </td><td style=\"text-align: right;\">                                          0.440659</td><td style=\"text-align: right;\">                                          10.8093 </td><td style=\"text-align: right;\">                                           8.85674</td></tr>\n",
       "<tr><td>run_model_5fefd70c</td><td>TERMINATED</td><td>10.128.3.134:18517</td><td>0.003111754600256964                              </td><td style=\"text-align: right;\">                                          0.259615</td><td style=\"text-align: right;\">                                           8.74551</td><td style=\"text-align: right;\">                                           9.96722</td></tr>\n",
       "<tr><td>run_model_75be94e2</td><td>TERMINATED</td><td>10.128.3.134:20773</td><td>0.0014980163413226633                             </td><td style=\"text-align: right;\">                                          0.234761</td><td style=\"text-align: right;\">                                          15.7127 </td><td style=\"text-align: right;\">                                           7.68511</td></tr>\n",
       "<tr><td>run_model_87a0b7bc</td><td>TERMINATED</td><td>10.128.3.134:21907</td><td>0.001390502296925332                              </td><td style=\"text-align: right;\">                                          0.219068</td><td style=\"text-align: right;\">                                          16.631  </td><td style=\"text-align: right;\">                                           9.05825</td></tr>\n",
       "<tr><td>run_model_898ab57e</td><td>TERMINATED</td><td>10.128.3.134:9558 </td><td>0.002768508803397412                              </td><td style=\"text-align: right;\">                                          0.332046</td><td style=\"text-align: right;\">                                          11.0461 </td><td style=\"text-align: right;\">                                           7.74418</td></tr>\n",
       "<tr><td>run_model_8c87f5e8</td><td>TERMINATED</td><td>10.128.3.134:10677</td><td>0.00023411523234935174                            </td><td style=\"text-align: right;\">                                          0.472796</td><td style=\"text-align: right;\">                                           9.22038</td><td style=\"text-align: right;\">                                           8.73794</td></tr>\n",
       "<tr><td>run_model_809a0816</td><td>ERROR     </td><td>                  </td><td>0.0008787277504176031                             </td><td style=\"text-align: right;\">                                          0.35427 </td><td style=\"text-align: right;\">                                          12.5607 </td><td style=\"text-align: right;\">                                           9.46294</td></tr>\n",
       "<tr><td>run_model_8394e3ba</td><td>ERROR     </td><td>                  </td><td>0.0024694249224156096                             </td><td style=\"text-align: right;\">                                          0.251157</td><td style=\"text-align: right;\">                                          13.9241 </td><td style=\"text-align: right;\">                                           7.61613</td></tr>\n",
       "<tr><td>run_model_868effa6</td><td>ERROR     </td><td>                  </td><td>0.0038659649289907814                             </td><td style=\"text-align: right;\">                                          0.442519</td><td style=\"text-align: right;\">                                           8.65052</td><td style=\"text-align: right;\">                                           9.87221</td></tr>\n",
       "<tr><td>run_model_d54bc68c</td><td>ERROR     </td><td>                  </td><td>0.0017845855727042516                             </td><td style=\"text-align: right;\">                                          0.287369</td><td style=\"text-align: right;\">                                          11.0424 </td><td style=\"text-align: right;\">                                           8.81189</td></tr>\n",
       "<tr><td>run_model_d707ec6c</td><td>ERROR     </td><td>                  </td><td>0.001239364129287351                              </td><td style=\"text-align: right;\">                                          0.309909</td><td style=\"text-align: right;\">                                          14.1185 </td><td style=\"text-align: right;\">                                           7.84873</td></tr>\n",
       "<tr><td>run_model_eaacdf34</td><td>ERROR     </td><td>                  </td><td>&lt;ray.tune.sample.Float object at 0x7f67718b8610&gt;  </td><td style=\"text-align: right;\">                                          0.3     </td><td style=\"text-align: right;\">                                           8      </td><td style=\"text-align: right;\">                                           8.5    </td></tr>\n",
       "</tbody>\n",
       "</table><br>... 5 more trials not shown (5 TERMINATED)<br>Number of errored trials: 6<br><table>\n",
       "<thead>\n",
       "<tr><th>Trial name        </th><th style=\"text-align: right;\">  # failures</th><th>error file                                                                                                                                                                                                             </th></tr>\n",
       "</thead>\n",
       "<tbody>\n",
       "<tr><td>run_model_d707ec6c</td><td style=\"text-align: right;\">           1</td><td>/mnt/user/drive/My Libraries/tutorials&amp;explorations/data/ray_results/20220623_trial1/run_model_d707ec6c_7_c_ee=14.119,c_ie=7.8487,nsig=0.0012394,sigma=0.30991_2022-06-24_01-18-50/error.txt                           </td></tr>\n",
       "<tr><td>run_model_eaacdf34</td><td style=\"text-align: right;\">           1</td><td>/mnt/user/drive/My Libraries/tutorials&amp;explorations/data/ray_results/20220623_trial1/run_model_eaacdf34_1_c_ee=8,c_ie=8.5,nsig=&lt;ray.tune.sample.Float object at 0x7f6771ad2640&gt;,sigma=0.3_2022-06-23_19-21-28/error.txt</td></tr>\n",
       "<tr><td>run_model_d54bc68c</td><td style=\"text-align: right;\">           1</td><td>/mnt/user/drive/My Libraries/tutorials&amp;explorations/data/ray_results/20220623_trial1/run_model_d54bc68c_6_c_ee=11.042,c_ie=8.8119,nsig=0.0017846,sigma=0.28737_2022-06-24_00-07-12/error.txt                           </td></tr>\n",
       "<tr><td>run_model_809a0816</td><td style=\"text-align: right;\">           1</td><td>/mnt/user/drive/My Libraries/tutorials&amp;explorations/data/ray_results/20220623_trial1/run_model_809a0816_8_c_ee=12.561,c_ie=9.4629,nsig=0.00087873,sigma=0.35427_2022-06-24_02-20-50/error.txt                          </td></tr>\n",
       "<tr><td>run_model_868effa6</td><td style=\"text-align: right;\">           1</td><td>/mnt/user/drive/My Libraries/tutorials&amp;explorations/data/ray_results/20220623_trial1/run_model_868effa6_10_c_ee=8.6505,c_ie=9.8722,nsig=0.003866,sigma=0.44252_2022-06-24_02-21-00/error.txt                           </td></tr>\n",
       "<tr><td>run_model_8394e3ba</td><td style=\"text-align: right;\">           1</td><td>/mnt/user/drive/My Libraries/tutorials&amp;explorations/data/ray_results/20220623_trial1/run_model_8394e3ba_9_c_ee=13.924,c_ie=7.6161,nsig=0.0024694,sigma=0.25116_2022-06-24_02-20-55/error.txt                           </td></tr>\n",
       "</tbody>\n",
       "</table><br>"
      ],
      "text/plain": [
       "<IPython.core.display.HTML object>"
      ]
     },
     "metadata": {},
     "output_type": "display_data"
    }
   ],
   "source": [
    "smoke_test = False\n",
    "restore = True\n",
    "nsample = -1\n",
    "debug = False\n",
    "bayesopt = BayesOptSearch(metric=\"score\",\n",
    "                          mode=\"min\",\n",
    "                          points_to_evaluate=[{\"nsig\":0.0001,\"sigma\": 0.3,\"c_ee\": 8, 'c_ie':8.5}],\n",
    "                          random_search_steps=150)\n",
    "# pdb.set_trace()\n",
    "# if restore:\n",
    "#     bayesopt.restore(os.path.join(restore_folder, 'baye_checkpoint.pkl'))\n",
    "if debug:\n",
    "    sys.path.append('/opt/app-root/src/.local/lib/python3.8/site-packages/ray/tune')\n",
    "    pdb.set_trace()\n",
    "try:\n",
    "    analysis = tune.run(run_model,\n",
    "                        verbose=3,\n",
    "                        name = exp_name,\n",
    "                        local_dir=ray_folder,\n",
    "                        search_alg=bayesopt,\n",
    "                        # config=config,\n",
    "                        metric=\"score\",\n",
    "                        mode=\"min\",\n",
    "                        progress_reporter=tune.JupyterNotebookReporter(overwrite=True,metric_columns='score',\n",
    "                                                                      parameter_columns=config),\n",
    "                        callbacks=[CustomLoggerCallback(bayesopt=bayesopt, filefolder=exp_folder, filename= \"log_test.txt\")],\n",
    "                        stop={'score':0.06},\n",
    "                        # resume= 'ERRORED_ONLY', # do this when you whant to resume a stopped experiment option:'ERRORED_ONLY'\n",
    "                        resume= True,\n",
    "                        # max_concurrent_trials = 3,\n",
    "                        num_samples=2 if smoke_test else nsample)\n",
    "except ValueError as e:\n",
    "    # TODO: Add the error!\n",
    "    if str(e) == \"blablabla\":\n",
    "        analysis = tune.run(run_model,\n",
    "                            verbose=3,\n",
    "                            name = exp_name,\n",
    "                            local_dir=ray_folder,\n",
    "                            search_alg=bayesopt,\n",
    "                            # config=config,\n",
    "                            metric=\"score\",\n",
    "                            mode=\"min\",\n",
    "                            progress_reporter=tune.JupyterNotebookReporter(overwrite=True,metric_columns='score',\n",
    "                                                                      parameter_columns=config),\n",
    "                            callbacks=[CustomLoggerCallback(filefolder=exp_folder, filename= \"log_test.txt\",bayesopt=bayesopt)],\n",
    "                            stop={'score':0.08},\n",
    "                            # resume=True, # do this when you whant to resume a stopped experiment\n",
    "                            max_concurrent_trials = 3,\n",
    "                            num_samples=2 if smoke_test else nsample)\n",
    "    elif str(e) ==  \"'NoneType' object is not callable\":\n",
    "        pdb.post_mortem()\n",
    "    else:\n",
    "        raise\n",
    "except:\n",
    "    pdb.post_mortem(sys.exc_info()[2])"
   ]
  },
  {
   "cell_type": "code",
   "execution_count": 10,
   "id": "2b8ab412-ae4d-4f7c-8e06-460085a17e51",
   "metadata": {},
   "outputs": [
    {
     "data": {
      "text/plain": [
       "0"
      ]
     },
     "execution_count": 10,
     "metadata": {},
     "output_type": "execute_result"
    }
   ],
   "source": [
    "len(bayesopt._buffered_trial_results)"
   ]
  },
  {
   "cell_type": "code",
   "execution_count": 11,
   "id": "37ada812-f501-46ba-ae38-487f095da1c5",
   "metadata": {},
   "outputs": [],
   "source": [
    "# save the current experiment\n",
    "save_ckp=True\n",
    "if save_ckp:\n",
    "    bayesopt.save(os.path.join(exp_folder, 'baye_checkpoint.pkl'))"
   ]
  },
  {
   "cell_type": "code",
   "execution_count": 12,
   "id": "96edba23-0af0-406d-9eb8-b55c8339a69d",
   "metadata": {
    "tags": []
   },
   "outputs": [
    {
     "name": "stderr",
     "output_type": "stream",
     "text": [
      "2022-06-23 19:04:21,490\tWARNING experiment_analysis.py:533 -- Could not find best trial. Did you pass the correct `metric` parameter?\n",
      "2022-06-23 19:04:21,492\tWARNING experiment_analysis.py:533 -- Could not find best trial. Did you pass the correct `metric` parameter?\n"
     ]
    },
    {
     "name": "stdout",
     "output_type": "stream",
     "text": [
      "Best hyperparameters found were:  None\n"
     ]
    },
    {
     "ename": "AttributeError",
     "evalue": "'NoneType' object has no attribute 'last_result'",
     "output_type": "error",
     "traceback": [
      "\u001b[0;31m---------------------------------------------------------------------------\u001b[0m",
      "\u001b[0;31mAttributeError\u001b[0m                            Traceback (most recent call last)",
      "\u001b[0;32m/tmp/ipykernel_1970/2003054927.py\u001b[0m in \u001b[0;36m<module>\u001b[0;34m\u001b[0m\n\u001b[1;32m      1\u001b[0m \u001b[0mprint\u001b[0m\u001b[0;34m(\u001b[0m\u001b[0;34m\"Best hyperparameters found were: \"\u001b[0m\u001b[0;34m,\u001b[0m \u001b[0manalysis\u001b[0m\u001b[0;34m.\u001b[0m\u001b[0mbest_config\u001b[0m\u001b[0;34m)\u001b[0m\u001b[0;34m\u001b[0m\u001b[0;34m\u001b[0m\u001b[0m\n\u001b[0;32m----> 2\u001b[0;31m \u001b[0mprint\u001b[0m\u001b[0;34m(\u001b[0m\u001b[0;34m\"Best result: \"\u001b[0m\u001b[0;34m,\u001b[0m \u001b[0manalysis\u001b[0m\u001b[0;34m.\u001b[0m\u001b[0mbest_result\u001b[0m\u001b[0;34m)\u001b[0m\u001b[0;34m\u001b[0m\u001b[0;34m\u001b[0m\u001b[0m\n\u001b[0m\u001b[1;32m      3\u001b[0m \u001b[0manalysis\u001b[0m\u001b[0;34m.\u001b[0m\u001b[0mresults_df\u001b[0m\u001b[0;34m\u001b[0m\u001b[0;34m\u001b[0m\u001b[0m\n",
      "\u001b[0;32m~/.local/lib/python3.8/site-packages/ray/tune/analysis/experiment_analysis.py\u001b[0m in \u001b[0;36mbest_result\u001b[0;34m(self)\u001b[0m\n\u001b[1;32m    273\u001b[0m                 \u001b[0;34m\"`get_best_trial(metric, mode).last_result` to set \"\u001b[0m\u001b[0;34m\u001b[0m\u001b[0;34m\u001b[0m\u001b[0m\n\u001b[1;32m    274\u001b[0m                 \"the metric and mode explicitly and fetch the last result.\")\n\u001b[0;32m--> 275\u001b[0;31m         \u001b[0;32mreturn\u001b[0m \u001b[0mself\u001b[0m\u001b[0;34m.\u001b[0m\u001b[0mbest_trial\u001b[0m\u001b[0;34m.\u001b[0m\u001b[0mlast_result\u001b[0m\u001b[0;34m\u001b[0m\u001b[0;34m\u001b[0m\u001b[0m\n\u001b[0m\u001b[1;32m    276\u001b[0m \u001b[0;34m\u001b[0m\u001b[0m\n\u001b[1;32m    277\u001b[0m     \u001b[0;32mdef\u001b[0m \u001b[0m_delimiter\u001b[0m\u001b[0;34m(\u001b[0m\u001b[0mself\u001b[0m\u001b[0;34m)\u001b[0m\u001b[0;34m:\u001b[0m\u001b[0;34m\u001b[0m\u001b[0;34m\u001b[0m\u001b[0m\n",
      "\u001b[0;31mAttributeError\u001b[0m: 'NoneType' object has no attribute 'last_result'"
     ]
    }
   ],
   "source": [
    "print(\"Best hyperparameters found were: \", analysis.best_config)\n",
    "print(\"Best result: \", analysis.best_result)\n",
    "analysis.results_df"
   ]
  },
  {
   "cell_type": "markdown",
   "id": "991b0581-1e98-49ee-9da6-fe1fccfb5a98",
   "metadata": {},
   "source": [
    "## Load the result from file"
   ]
  },
  {
   "cell_type": "code",
   "execution_count": null,
   "id": "546d9103-360f-417a-893e-2b8d57eeb738",
   "metadata": {},
   "outputs": [],
   "source": [
    "from ray.tune import ExperimentAnalysis\n",
    "analysis = ExperimentAnalysis(exp_folder)"
   ]
  },
  {
   "cell_type": "code",
   "execution_count": null,
   "id": "1d408850-e34e-486b-ae94-2926e0663f7e",
   "metadata": {},
   "outputs": [],
   "source": [
    "analysis.get_best_config(metric=\"score\",mode=\"min\",)"
   ]
  },
  {
   "cell_type": "code",
   "execution_count": null,
   "id": "f800948d-3107-40c3-8209-cca3d31c8119",
   "metadata": {},
   "outputs": [],
   "source": [
    "analysis.get_best_trial(metric=\"score\",mode=\"min\",).last_result"
   ]
  },
  {
   "cell_type": "code",
   "execution_count": null,
   "id": "3914105e-fb98-4b1b-a850-cce6ea71fd1d",
   "metadata": {},
   "outputs": [],
   "source": [
    "analysis.trials[0].metric_analysis"
   ]
  },
  {
   "cell_type": "code",
   "execution_count": null,
   "id": "ad51f88c-b5fa-4ff3-afc2-943d240c52a0",
   "metadata": {},
   "outputs": [],
   "source": [
    "min(analysis.results_df.score)"
   ]
  }
 ],
 "metadata": {
  "kernelspec": {
   "display_name": "EBRAINS_release_v0.1_202109",
   "language": "python",
   "name": "spack_python_kernel_release_20210930"
  },
  "language_info": {
   "codemirror_mode": {
    "name": "ipython",
    "version": 3
   },
   "file_extension": ".py",
   "mimetype": "text/x-python",
   "name": "python",
   "nbconvert_exporter": "python",
   "pygments_lexer": "ipython3",
   "version": "3.8.11"
  }
 },
 "nbformat": 4,
 "nbformat_minor": 5
}
