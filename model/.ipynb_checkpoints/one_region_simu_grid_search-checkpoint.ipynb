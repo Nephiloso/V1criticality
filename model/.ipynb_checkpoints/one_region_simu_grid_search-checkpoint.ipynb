{
 "cells": [
  {
   "cell_type": "code",
   "execution_count": null,
   "id": "7d0ab47d-103b-4cb6-9165-51366786ddc6",
   "metadata": {},
   "outputs": [],
   "source": [
    "%pylab inline"
   ]
  },
  {
   "cell_type": "code",
   "execution_count": null,
   "id": "3c1e8498-8ab1-491d-b456-421d97b5fb68",
   "metadata": {
    "tags": []
   },
   "outputs": [],
   "source": [
    "'''\n",
    "This is a trail to test whether it is approachable to do surface modeling in single brain region.\n",
    "'''\n",
    "import time as t0\n",
    "from tvb.simulator.lab import *\n",
    "import pandas as pd\n",
    "from datetime import date\n",
    "import os\n",
    "tic = t0.time()"
   ]
  },
  {
   "cell_type": "code",
   "execution_count": null,
   "id": "8dda751e-d7e2-47b9-bc51-08c75fe73bf1",
   "metadata": {
    "tags": []
   },
   "outputs": [],
   "source": [
    "simulation_mode = 'simu1'\n",
    "data_folder = os.path.join(os.getcwd(), 'data')"
   ]
  },
  {
   "cell_type": "code",
   "execution_count": null,
   "id": "2cfaaee6-be1c-4e03-ab9e-b9ec632c84c2",
   "metadata": {
    "tags": []
   },
   "outputs": [],
   "source": [
    "def plot_result(time, signal, interval, t_unit='ms'):\n",
    "    #Plot region averaged time series\n",
    "    fig = plt.figure(figsize=(15,5))\n",
    "    ax = fig.add_subplot(111)\n",
    "    if signal.ndim == 4:\n",
    "        ax.plot(time[interval[0]:interval[-1]], signal[interval[0]:interval[-1], 0, :, 0])\n",
    "    elif signal.ndim == 1:\n",
    "        ax.plot(time[interval[0]:interval[-1]], signal[interval[0]:interval[-1]])\n",
    "    else:\n",
    "        print(\"Dimension should be 4 or 1!\")\n",
    "        return None\n",
    "    title(\"Region average\")\n",
    "    plt.xlabel(\"time/\"+t_unit)\n",
    "    #Show them\n",
    "    show()"
   ]
  },
  {
   "cell_type": "code",
   "execution_count": null,
   "id": "efab2c3a-b8f8-4e16-8468-198cfdb9902e",
   "metadata": {},
   "outputs": [],
   "source": [
    "simulator.Simulator()\n",
    "# specify the coupling\n",
    "c=coupling.Linear(a=np.array([0.5]))\n",
    "# The algorithm to solve differential equations\n",
    "integ = integrators.HeunStochastic(dt=0.5)  # See Arthur's paper\n",
    "# region-based modeling\n",
    "white_matter = connectivity.Connectivity.from_file()\n",
    "tract_lengths = white_matter.tract_lengths[73:74,73:74]\n",
    "region_labels = white_matter.region_labels[73:74]\n",
    "centres = white_matter.centres[73:74]\n",
    "cortical = white_matter.cortical[73:74]\n",
    "orientations = white_matter.orientations[73:74]\n",
    "areas = white_matter.areas[73:74]\n",
    "weights = white_matter.weights[73:74,73:74]\n",
    "one_region = connectivity.Connectivity(number_of_regions = 1,\n",
    "                                        # number_of_connections=4,\n",
    "                                        tract_lengths = tract_lengths,\n",
    "                                        region_labels = region_labels,\n",
    "                                        centres = centres,\n",
    "                                        cortical = cortical,\n",
    "                                        orientations = orientations,\n",
    "                                        areas = areas,weights = weights)\n",
    "one_region.configure()"
   ]
  },
  {
   "cell_type": "code",
   "execution_count": null,
   "id": "92928a63-9e58-460a-9ccc-6ae8a9e82e89",
   "metadata": {},
   "outputs": [],
   "source": [
    "source_path = '/mnt/user/drive/My Libraries/tutorials&explorations/data/cortex/cortex_180.zip'\n",
    "mapping_path = '/mnt/user/drive/My Libraries/tutorials&explorations/data/cortex/regionMapping_180_1.txt'\n",
    "local_connectivity_path = '/mnt/user/drive/My Libraries/tutorials&explorations/data/cortex/local_connectivity_180.mat'"
   ]
  },
  {
   "cell_type": "code",
   "execution_count": null,
   "id": "09fa8078-ab8d-49e1-915c-4526c96bc922",
   "metadata": {},
   "outputs": [],
   "source": [
    "#Initialise a surface\n",
    "default_cortex = cortex.Cortex.from_file(source_file=source_path, region_mapping_file=mapping_path)\n",
    "default_cortex.coupling_strength = np.array([2**-10])\n",
    "default_cortex.local_connectivity = local_connectivity.LocalConnectivity.from_file(local_connectivity_path)\n",
    "default_cortex.region_mapping_data.connectivity = one_region\n",
    "default_cortex.configure()\n",
    "#Initialise some Monitors with period in physical time\n",
    "mon_savg = monitors.SpatialAverage(period=2**-1)"
   ]
  },
  {
   "cell_type": "code",
   "execution_count": null,
   "id": "9c54dd87-f38d-40e6-9265-d88cea964433",
   "metadata": {
    "tags": []
   },
   "outputs": [],
   "source": [
    "# grid search\n",
    "# c_ee = 13.25\n",
    "# c_ei = 12.0\n",
    "c_ie = 9.23\n",
    "c_ii = 2.0\n",
    "# c_ee = 14\n",
    "# c_ei = 15\n",
    "for c_ee in arange(15, 17): # 16, 17\n",
    "    for c_ei in arange(2, 16):\n",
    "        mod = models.WilsonCowan(k_e = np.array([1.0]),            #Max value of excitatory response function\n",
    "                                 k_i = np.array([2.0]),            #Max value of inhibitory response function\n",
    "                                 r_e = np.array([1.0]),            #Excitatory refractory period\n",
    "                                 r_i = np.array([1.0]),            #Inhibitory refractory period\n",
    "                                 c_ee = np.array([c_ee]),          #Excitatory to excitatory coupling coefficient\n",
    "                                 c_ei = np.array([c_ei]),          #Inhibitory to excitatory coupling coefficient\n",
    "                                 c_ie = np.array([c_ie]),         #Excitatory to inhibitory coupling coefficient\n",
    "                                 c_ii = np.array([c_ii]),          #Inhibitory to inhibitory coupling coefficient\n",
    "                                 tau_e = np.array([10.0]),         #Membrane time-constant for the excitatory population\n",
    "                                 tau_i = np.array([10.0]),         #Membrane time-constant for the inhibitory population\n",
    "                                 a_e = np.array([1.3]),            #Slope parameter for the excitatory response function\n",
    "                                 b_e = np.array([2.8]),           #Position of the maximum slope of the excitatory sigmoid function\n",
    "                                 c_e = np.array([7.0]),            #Amplitude parameter for the excitatory response function\n",
    "                                 a_i = np.array([2.0]),            #Slope parameter for the inhibitory response function\n",
    "                                 b_i = np.array([4.0]),            #Position of the maximum slope of the inhibitory sigmoid function\n",
    "                                 c_i = np.array([1.0]),            #Amplitude parameter for the inhibitory response function\n",
    "                                 theta_e = np.array([2.0]),        #Excitatory treshold\n",
    "                                 theta_i = np.array([1.5]),        #Inhibitory treshold\n",
    "                                 alpha_e = np.array([1.0]),        # ?Balance parameter between excitatory and inhibitory masses\n",
    "                                 alpha_i = np.array([1.0]),        # ?Balance parameter between excitatory and inhibitory masses\n",
    "                                 P = np.array([2.5]),              #External stimulus to the excitatory population\n",
    "                                 Q = np.array([0.0]),              #External stimulus to the inhibitory population\n",
    "                                 shift_sigmoid = np.array([False])\n",
    "                                )\n",
    "        sim = simulator.Simulator(model = mod, connectivity = one_region,\n",
    "                          coupling = c, \n",
    "                          integrator = integ, monitors = (mon_savg,),\n",
    "                          simulation_length = 1000000,\n",
    "                          surface = default_cortex)\n",
    "        sim.configure()\n",
    "        sim.integrator.noise.nsig = np.array([1.])\n",
    "        #Perform the simulation\n",
    "        savg_data = []\n",
    "        savg_time = []\n",
    "        today = date.today().isoformat()\n",
    "        simu_name = today + '_' + simulation_mode+'_'+str(c_ee)+'_'+str(c_ei)+'_'+str(c_ie)+'_'+str(c_ii)\n",
    "        result_name = os.path.join(data_folder,simu_name+\"_results.csv\")\n",
    "        batch = 0\n",
    "        last_t = []\n",
    "        latt_d = []\n",
    "        check_point = 50000\n",
    "        for savg in sim():\n",
    "            if not savg is None:\n",
    "                savg_time.append(savg[0][0])\n",
    "                savg_data.append(savg[0][1])\n",
    "                if len(savg_time) == check_point:\n",
    "                    SAVG = np.array(savg_data)\n",
    "                    v1 = SAVG[:,0,0,0]\n",
    "                    # v2 = SAVG[:,0,1,0]\n",
    "                    df = pd.DataFrame({'time':savg_time,\n",
    "                                       's_v1':v1})\n",
    "                    if batch == 0:\n",
    "                        df.to_csv(result_name, index=False, header=False)\n",
    "                    elif batch == 1:\n",
    "                        if sum(abs(v1[-10000:])) < 200:\n",
    "                            print(\"Oscillation is not generated. Will abandon this trail.\")\n",
    "                            plot_result(savg_time,v1,[40000,49999])\n",
    "                            break\n",
    "                        else:\n",
    "                            df.to_csv(result_name, mode='a', index=False, header=False)\n",
    "                    else:\n",
    "                        df.to_csv(result_name, mode='a', index=False, header=False)\n",
    "                    batch +=1\n",
    "                    last_t = savg_time\n",
    "                    last_d = savg_data\n",
    "                    df= []\n",
    "                    savg_data = []\n",
    "                    savg_time = []"
   ]
  },
  {
   "cell_type": "code",
   "execution_count": null,
   "id": "57ab0468-0996-42f1-806d-b2931232dc6b",
   "metadata": {},
   "outputs": [],
   "source": [
    "toc = t0.time() - tic\n",
    "print('Elapsed:',toc)"
   ]
  }
 ],
 "metadata": {
  "kernelspec": {
   "display_name": "EBRAINS_release_v0.1_202109",
   "language": "python",
   "name": "spack_python_kernel_release_20210930"
  },
  "language_info": {
   "codemirror_mode": {
    "name": "ipython",
    "version": 3
   },
   "file_extension": ".py",
   "mimetype": "text/x-python",
   "name": "python",
   "nbconvert_exporter": "python",
   "pygments_lexer": "ipython3",
   "version": "3.8.11"
  }
 },
 "nbformat": 4,
 "nbformat_minor": 5
}
