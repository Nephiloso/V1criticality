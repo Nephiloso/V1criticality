{
 "cells": [
  {
   "cell_type": "code",
   "execution_count": 1,
   "id": "7d0ab47d-103b-4cb6-9165-51366786ddc6",
   "metadata": {},
   "outputs": [
    {
     "name": "stdout",
     "output_type": "stream",
     "text": [
      "Populating the interactive namespace from numpy and matplotlib\n"
     ]
    }
   ],
   "source": [
    "%pylab inline"
   ]
  },
  {
   "cell_type": "code",
   "execution_count": 2,
   "id": "3c1e8498-8ab1-491d-b456-421d97b5fb68",
   "metadata": {
    "tags": []
   },
   "outputs": [],
   "source": [
    "'''\n",
    "This is a trail to test whether it is approachable to do surface modeling in single brain region.\n",
    "'''\n",
    "import time as t0\n",
    "import matplotlib.pyplot as plt\n",
    "from tvb.simulator.lab import *\n",
    "import pandas as pd\n",
    "from datetime import date\n",
    "import dfa\n",
    "import os\n",
    "import numpy as np\n",
    "from one_region_simu import *\n",
    "from plot_util import *"
   ]
  },
  {
   "cell_type": "code",
   "execution_count": 3,
   "id": "8dda751e-d7e2-47b9-bc51-08c75fe73bf1",
   "metadata": {},
   "outputs": [],
   "source": [
    "simulation_mode = 'stimulation'\n",
    "data_folder = os.path.join(os.getcwd(), 'data')\n",
    "ray_folder = os.path.join(data_folder,'ray_results')\n",
    "today = date.today().isoformat()\n",
    "exp_folder = os.path.join(ray_folder, today+simulation_mode)\n",
    "os.makedirs(exp_folder, exist_ok=True)"
   ]
  },
  {
   "cell_type": "code",
   "execution_count": 4,
   "id": "f5d14408-9267-4d41-9be8-28870a5f4992",
   "metadata": {},
   "outputs": [
    {
     "name": "stdout",
     "output_type": "stream",
     "text": [
      "WARNING  File 'hemispheres' not found in ZIP.\n"
     ]
    }
   ],
   "source": [
    "params = config_params(c_ee=7)\n",
    "region = config_one_region()"
   ]
  },
  {
   "cell_type": "markdown",
   "id": "c51e8f3a-efca-49d3-91ef-9473bb62707f",
   "metadata": {
    "tags": []
   },
   "source": [
    "### Configure the surface"
   ]
  },
  {
   "cell_type": "code",
   "execution_count": 5,
   "id": "92928a63-9e58-460a-9ccc-6ae8a9e82e89",
   "metadata": {},
   "outputs": [],
   "source": [
    "source_path = '/mnt/user/drive/My Libraries/tutorials&explorations/data/cortex/V1_177.zip'\n",
    "mapping_path = '/mnt/user/drive/My Libraries/tutorials&explorations/data/cortex/regionMapping_177_1.txt'\n",
    "local_connectivity_path = '/mnt/user/drive/My Libraries/tutorials&explorations/data/cortex/local_connectivity_177.mat'"
   ]
  },
  {
   "cell_type": "code",
   "execution_count": 6,
   "id": "09fa8078-ab8d-49e1-915c-4526c96bc922",
   "metadata": {},
   "outputs": [],
   "source": [
    "#Initialise a surface\n",
    "surf = surfaces.CorticalSurface.from_file(source_file=source_path)\n",
    "surf.configure()\n",
    "    \n",
    "default_cortex = cortex.Cortex.from_file(source_file=source_path, region_mapping_file=mapping_path)\n",
    "default_cortex.coupling_strength = np.array([2**-10])\n",
    "default_cortex.local_connectivity = local_connectivity.LocalConnectivity.from_file(local_connectivity_path)\n",
    "default_cortex.region_mapping_data.connectivity = region\n",
    "default_cortex.region_mapping_data.surface = surf\n",
    "default_cortex.configure()"
   ]
  },
  {
   "cell_type": "code",
   "execution_count": 120,
   "id": "13dbae9b-205a-4772-aef3-9051db166ca4",
   "metadata": {},
   "outputs": [],
   "source": [
    "stimulation = True\n",
    "stim_size = 150\n",
    "dt = 0.1"
   ]
  },
  {
   "cell_type": "code",
   "execution_count": 121,
   "id": "ca79f365-be43-47e7-8af8-93703ec0b19d",
   "metadata": {},
   "outputs": [],
   "source": [
    "import random"
   ]
  },
  {
   "cell_type": "code",
   "execution_count": 134,
   "id": "053dc8ee-f8b0-4e83-b894-1ca3689ae29c",
   "metadata": {},
   "outputs": [],
   "source": [
    "from tvb.datatypes.equations import TemporalApplicableEquation\n",
    "from tvb.basic.neotraits.api import Attr, Final\n",
    "class SinglePulse(TemporalApplicableEquation):\n",
    "    \"\"\"\n",
    "    A pulse train , offset with respect to the time axis.\n",
    "\n",
    "    **Parameters**:\n",
    "    \n",
    "    * dT     :  pulse repetition period\n",
    "    * onset         :  time of the first pulse\n",
    "    * amp           :  amplitude of the pulse\n",
    "    unit: milliseconds\n",
    "    \"\"\"\n",
    "\n",
    "    equation = Final(\n",
    "        label=\"Pulse Train\",\n",
    "        default=\"where((var>=onset)&((var-onset) < dT), amp, 0)\",\n",
    "        doc=\"\"\":math:`\\\\left\\\\{{\\\\begin{array}{rl}amp,&{\\\\text{if }} ((var-onset) < dT \\\\and var > onset\\\\\\\\0,&{\\\\text{otherwise }}\\\\end{array}}\\\\right.`\"\"\")\n",
    "\n",
    "    parameters = Attr(\n",
    "        field_type=dict,\n",
    "        default=lambda: {\"dT\": 0.1, \"amp\": 0.001, \"onset\": 10},\n",
    "        label=\"Pulse Train Parameters\")"
   ]
  },
  {
   "cell_type": "code",
   "execution_count": 135,
   "id": "5454979e-64bc-472a-9d12-de1b84df2723",
   "metadata": {},
   "outputs": [],
   "source": [
    "if stimulation:\n",
    "    # Define a spatial pattern\n",
    "    # Define a stimulus\n",
    "    # eqn_t = equations.Alpha()  # belongs to a family of exponential function, used for visual stimulus\n",
    "    # eqn_t.parameters['onset'] = 200  # ! Time point of stimulus onset!\n",
    "    # eqn_t.parameters['alpha'] = 43#0.25\n",
    "    # eqn_t.parameters['beta'] = 12#0.02\n",
    "    eqn_t = SinglePulse()\n",
    "    eqn_t.parameters['onset'] = 200  # ! Time point of stimulus onset!\n",
    "    eqn_s = equations.DiscreteEquation()\n",
    "    \n",
    "    deck = list(range(1, default_cortex.surface.number_of_vertices))\n",
    "    random.shuffle(deck)\n",
    "    focal = np.array(deck[:stim_size])\n",
    "    stimulus = patterns.StimuliSurface(surface=default_cortex.surface,\n",
    "                                       focal_points_triangles=focal,\n",
    "                                       temporal=eqn_t,\n",
    "                                       spatial = eqn_s\n",
    "                                       # space = space\n",
    "                                      )\n",
    "\n",
    "    # stimulus.configure_space()  # compute the distance between regions # ? why np.where(stimulus.space==0) gives 114 when focal is set to 123? Also there're some points == inf.\n",
    "    stimulus.configure_time(np.arange(0.,500, dt))  # apply a stimulus at 25s\n",
    "    # plot_pattern(stimulus)"
   ]
  },
  {
   "cell_type": "code",
   "execution_count": 136,
   "id": "ec636447-2cfc-4d7d-9ca9-e0782ab0b4e9",
   "metadata": {},
   "outputs": [
    {
     "data": {
      "text/plain": [
       "array([135,  93, 105,  18,  42,  82,  13,  54, 139,  70,  67,  87,  16,\n",
       "       159,  77, 145,  96,  15,   7, 121, 110,  14,  35,  78,  61,  21,\n",
       "       158,   6,  95,  53, 136,  11,  60, 115,  79,  91, 165, 108,  80,\n",
       "       164,  48, 163, 160,  85, 106, 167, 123, 134,  37, 171,   2, 174,\n",
       "       130, 126,  28, 128, 102,  50,  56, 133, 122, 172,  19,  69, 168,\n",
       "        57,  46,  24,  99,  64,  52,  75, 142,  59,  89,  86,  43,  98,\n",
       "       118,  94, 175,   9,  51, 112,  20,  34,   4, 162, 114, 156,  68,\n",
       "        26,  90,  17,  62,  25,  22, 150,   5, 169, 137, 148, 124, 119,\n",
       "         3, 132,  92,  65, 144, 153,  39,  32,  38, 146, 120,  47, 109,\n",
       "        55, 143,  12,  73,  97,  58,   1, 104, 161, 129, 157, 138, 170,\n",
       "        71,  81,  33, 101,  36, 141,  45, 166,  63,  66, 100, 155,  30,\n",
       "       152,  41, 113,  40,  84, 147, 154])"
      ]
     },
     "execution_count": 136,
     "metadata": {},
     "output_type": "execute_result"
    }
   ],
   "source": [
    "stimulus.focal_points_triangles"
   ]
  },
  {
   "cell_type": "code",
   "execution_count": 137,
   "id": "18aaca76-212c-4968-90d7-8035376cc0e9",
   "metadata": {},
   "outputs": [
    {
     "data": {
      "text/plain": [
       "0.0"
      ]
     },
     "execution_count": 137,
     "metadata": {},
     "output_type": "execute_result"
    }
   ],
   "source": [
    "stimulus._temporal_pattern[0,101]"
   ]
  },
  {
   "cell_type": "code",
   "execution_count": 138,
   "id": "257fcfd6-afe2-4f41-84da-f7d19ebd399e",
   "metadata": {},
   "outputs": [
    {
     "data": {
      "text/plain": [
       "[<matplotlib.lines.Line2D at 0x7feef297e250>]"
      ]
     },
     "execution_count": 138,
     "metadata": {},
     "output_type": "execute_result"
    },
    {
     "data": {
      "image/png": "[encoded data removed]",
      "text/plain": [
       "<Figure size 432x288 with 1 Axes>"
      ]
     },
     "metadata": {
      "needs_background": "light"
     },
     "output_type": "display_data"
    }
   ],
   "source": [
    "plt.figure()\n",
    "tp = np.squeeze(stimulus._temporal_pattern)\n",
    "plt.plot(tp)\n",
    "# plt.xlim([0,800])"
   ]
  },
  {
   "cell_type": "code",
   "execution_count": 139,
   "id": "b02a8853-83cf-4894-9d1a-cdf1f646782f",
   "metadata": {},
   "outputs": [
    {
     "data": {
      "text/plain": [
       "(array([2000]), {})"
      ]
     },
     "execution_count": 139,
     "metadata": {},
     "output_type": "execute_result"
    }
   ],
   "source": [
    "# find the peak of the stimu'\n",
    "from scipy.signal import find_peaks\n",
    "find_peaks(tp)"
   ]
  },
  {
   "cell_type": "markdown",
   "id": "14e33345-01bc-4767-8ea6-1914d325ece3",
   "metadata": {},
   "source": [
    "stimulus.configure_space()\n",
    "time = r_[1e3:2e3:10.0]\n",
    "stimulus.configure_time(time)\n",
    "pattern = stimulus()\n",
    "imshow(pattern, interpolation='none')\n",
    "xlabel('Time')\n",
    "ylabel('Space')\n",
    "colorbar()"
   ]
  },
  {
   "cell_type": "code",
   "execution_count": 140,
   "id": "b66e33a8-3694-40b9-a22b-55c33f8658ad",
   "metadata": {
    "tags": []
   },
   "outputs": [
    {
     "data": {
      "text/html": [
       "<table>\n",
       "<h3>Simulator</h3>\n",
       "<thead><tr><th></th><th style=\"text-align:left;width:40%\">value</th></tr></thead>\n",
       "<tbody>\n",
       "<tr><td>Type</td><td style=\"text-align:left;\"><pre>Simulator</pre></td>\n",
       "<tr><td>conduction_speed</td><td style=\"text-align:left;\"><pre>3.0</pre></td>\n",
       "<tr><td>connectivity</td><td style=\"text-align:left;\"><pre>Connectivity gid: 6820a186-07a1-4294-b8ae-734ed854bead</pre></td>\n",
       "<tr><td>coupling</td><td style=\"text-align:left;\"><pre>Sigmoidal gid: 6398261e-4f6c-4516-847b-4af540f1ad0b</pre></td>\n",
       "<tr><td>gid</td><td style=\"text-align:left;\"><pre>UUID('c603e7da-9069-47ac-9075-6d7da2adc3b2')</pre></td>\n",
       "<tr><td>initial_conditions</td><td style=\"text-align:left;\"><pre>None</pre></td>\n",
       "<tr><td>integrator</td><td style=\"text-align:left;\"><pre>HeunDeterministic gid: 14ee57b8-8282-407e-8cc3-a4eb8bdaf5d5</pre></td>\n",
       "<tr><td>model</td><td style=\"text-align:left;\"><pre>WilsonCowan gid: 8086cd02-5b17-471a-bdf1-d4ef806c35b8</pre></td>\n",
       "<tr><td>monitors</td><td style=\"text-align:left;\"><pre>(<tvb.simulator.monitors.SpatialAverage object at 0x7feef2a83280>,)</pre></td>\n",
       "<tr><td>simulation_length</td><td style=\"text-align:left;\"><pre>500.0</pre></td>\n",
       "<tr><td>stimulus</td><td style=\"text-align:left;\"><pre>StimuliSurface gid: d98653f1-a1e8-419c-9c86-f39468475612</pre></td>\n",
       "<tr><td>surface</td><td style=\"text-align:left;\"><pre>Cortex gid: 9ebb0ce0-13c8-415c-a7d1-2d34cf562d2e</pre></td>\n",
       "<tr><td>title</td><td style=\"text-align:left;\"><pre>Simulator gid: c603e7da-9069-47ac-9075-6d7da2adc3b2</pre></td>\n",
       "</tbody></table>"
      ],
      "text/plain": [
       "<tvb.simulator.simulator.Simulator at 0x7feef2a832e0>"
      ]
     },
     "execution_count": 140,
     "metadata": {},
     "output_type": "execute_result"
    }
   ],
   "source": [
    "# specify the coupling\n",
    "c=coupling.Sigmoidal()\n",
    "integ_mode = 'deterministic'\n",
    "if integ_mode == 'stochastic':\n",
    "    # nois = noise.Multiplicative(ntau=params['ntau'], nsig = params['nsig'], b=equations.Gaussian())  # ? Do we need to optimize ntau?\n",
    "    # nois.configure_coloured(dt=0.1, shape=1)  # ? shape?? \n",
    "    # nois = noise.Multiplicative(nsig = params['nsig'], b=equations.Gaussian())\n",
    "    nois = noise.Multiplicative(nsig = params['nsig'], b=equations.Gaussian(parameters={\"amp\": 1.0,\n",
    "                                                                                  \"sigma\": params['sigma'],\n",
    "                                                                                  \"midpoint\": 0.0,\n",
    "                                                                                  \"offset\": 1.0}))\n",
    "    integ = integrators.HeunStochastic(dt=0.1, noise=nois)\n",
    "elif integ_mode == 'deterministic':\n",
    "    integ = integrators.HeunDeterministic(dt=0.1)\n",
    "else:\n",
    "    raise ValueError(\"`integ_mode` should be either 'stochastic' or 'deterministic'!\")\n",
    "\n",
    "mod = config_model(params)\n",
    "#Initialise some Monitors with period in physical time\n",
    "# TODO configure monitor for each node after optimization is done\n",
    "mon_savg = monitors.SpatialAverage(period=dt)\n",
    "sim = simulator.Simulator(model = mod, connectivity = region,\n",
    "                      coupling = c, \n",
    "                      integrator = integ, monitors = (mon_savg,),\n",
    "                      simulation_length = 500,\n",
    "                          stimulus = stimulus,\n",
    "                      surface = default_cortex)\n",
    "sim.configure()"
   ]
  },
  {
   "cell_type": "markdown",
   "id": "20406fbe-6f57-4a07-9102-9ea64bacfb50",
   "metadata": {},
   "source": [
    "## Pack the stimulation"
   ]
  },
  {
   "cell_type": "code",
   "execution_count": 21,
   "id": "905d7149-a1d8-4c63-a08b-8e86fcf9fe6d",
   "metadata": {},
   "outputs": [],
   "source": [
    "tic = t0.time()"
   ]
  },
  {
   "cell_type": "code",
   "execution_count": 49,
   "id": "50fe6b46-b8e3-462f-a935-48614d755bba",
   "metadata": {},
   "outputs": [
    {
     "name": "stdout",
     "output_type": "stream",
     "text": [
      "WARNING  File 'hemispheres' not found in ZIP.\n"
     ]
    }
   ],
   "source": [
    "data_folder = os.path.join(os.getcwd(),'data')\n",
    "# params = config_params(nsig=0.0004, stim_size=50, sigma=1, c_ee=11.57199543729056,c_ei= 10.307919639315172,\n",
    "#                         c_ie= 9.477017434965216,c_ii=7.4836638161762013,a_e=1.3, b_e=2.8,\n",
    "#                         c_e=7.0,a_i=2.0,alpha_e=1)\n",
    "params = config_params(nsig=0.00105, stim_size=100, sigma=0.25502,c_ee=14.995,c_ie=7.818)\n",
    "region = config_one_region()\n",
    "surface = config_surface(region,surface = True)\n",
    "stimulus = config_stimulus(params, surface, onset=800, mode= 'SinglePulse', amp=0.01, dT=0.1)\n",
    "sim = config_simulator(params, region, surface,integ_mode= 'stochastic',stimulus=stimulus,simu_length = 1000)"
   ]
  },
  {
   "cell_type": "code",
   "execution_count": 50,
   "id": "bff14856-f36c-44f6-9b84-597cf1021dd9",
   "metadata": {},
   "outputs": [],
   "source": [
    "savg_time, savg_data = run_simulation(sim, params, return_signal=True)"
   ]
  },
  {
   "cell_type": "code",
   "execution_count": 51,
   "id": "527332e2-57cc-4349-bc08-3242d9d0c485",
   "metadata": {},
   "outputs": [
    {
     "data": {
      "text/plain": [
       "50"
      ]
     },
     "execution_count": 51,
     "metadata": {},
     "output_type": "execute_result"
    }
   ],
   "source": [
    "len(sim.stimulus.focal_points_triangles)"
   ]
  },
  {
   "cell_type": "code",
   "execution_count": 52,
   "id": "b5b61f2a-b93a-4f63-9109-a84a1783ce9e",
   "metadata": {},
   "outputs": [
    {
     "data": {
      "image/png": "[encoded data removed]",
      "text/plain": [
       "<Figure size 1080x360 with 1 Axes>"
      ]
     },
     "metadata": {
      "needs_background": "light"
     },
     "output_type": "display_data"
    }
   ],
   "source": [
    "# plot_result(time_s, SAVG, [5000,15000])\n",
    "plot_result(savg_time, savg_data)"
   ]
  },
  {
   "cell_type": "code",
   "execution_count": 35,
   "id": "57ab0468-0996-42f1-806d-b2931232dc6b",
   "metadata": {},
   "outputs": [
    {
     "name": "stdout",
     "output_type": "stream",
     "text": [
      "Elapsed: 47.743064880371094\n"
     ]
    }
   ],
   "source": [
    "toc = t0.time() - tic\n",
    "print('Elapsed:',toc)"
   ]
  },
  {
   "cell_type": "code",
   "execution_count": 9,
   "id": "5baf88b7-4084-49b8-a87c-430ce0351e72",
   "metadata": {},
   "outputs": [],
   "source": [
    "# df = pd.read_csv(result_name, header = None)\n",
    "# total_rows=len(df.axes[0])\n",
    "# print(\"Number of Rows: \"+str(total_rows))\n",
    "# df.tail()"
   ]
  }
 ],
 "metadata": {
  "kernelspec": {
   "display_name": "EBRAINS_release_v0.1_202109",
   "language": "python",
   "name": "spack_python_kernel_release_20210930"
  },
  "language_info": {
   "codemirror_mode": {
    "name": "ipython",
    "version": 3
   },
   "file_extension": ".py",
   "mimetype": "text/x-python",
   "name": "python",
   "nbconvert_exporter": "python",
   "pygments_lexer": "ipython3",
   "version": "3.8.11"
  }
 },
 "nbformat": 4,
 "nbformat_minor": 5
}
